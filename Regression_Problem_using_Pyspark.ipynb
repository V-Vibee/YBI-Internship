{
  "nbformat": 4,
  "nbformat_minor": 0,
  "metadata": {
    "colab": {
      "provenance": [],
      "authorship_tag": "ABX9TyO4sLncA+WlI6euqv2ut6Hy",
      "include_colab_link": true
    },
    "kernelspec": {
      "name": "python3",
      "display_name": "Python 3"
    },
    "language_info": {
      "name": "python"
    }
  },
  "cells": [
    {
      "cell_type": "markdown",
      "metadata": {
        "id": "view-in-github",
        "colab_type": "text"
      },
      "source": [
        "<a href=\"https://colab.research.google.com/github/V-Vibee/YBI-Internship/blob/main/Regression_Problem_using_Pyspark.ipynb\" target=\"_parent\"><img src=\"https://colab.research.google.com/assets/colab-badge.svg\" alt=\"Open In Colab\"/></a>"
      ]
    },
    {
      "cell_type": "markdown",
      "source": [
        "**Install Spark**"
      ],
      "metadata": {
        "id": "QdMYo_crAanQ"
      }
    },
    {
      "cell_type": "code",
      "execution_count": 1,
      "metadata": {
        "colab": {
          "base_uri": "https://localhost:8080/"
        },
        "collapsed": true,
        "id": "hEIgPTBl5uL0",
        "outputId": "e3eacf79-4e0c-499a-aeda-a9880c5719a2"
      },
      "outputs": [
        {
          "output_type": "stream",
          "name": "stdout",
          "text": [
            "Collecting pyspark\n",
            "  Downloading pyspark-3.5.1.tar.gz (317.0 MB)\n",
            "\u001b[2K     \u001b[90m━━━━━━━━━━━━━━━━━━━━━━━━━━━━━━━━━━━━━━━━\u001b[0m \u001b[32m317.0/317.0 MB\u001b[0m \u001b[31m2.1 MB/s\u001b[0m eta \u001b[36m0:00:00\u001b[0m\n",
            "\u001b[?25h  Preparing metadata (setup.py) ... \u001b[?25l\u001b[?25hdone\n",
            "Requirement already satisfied: py4j==0.10.9.7 in /usr/local/lib/python3.10/dist-packages (from pyspark) (0.10.9.7)\n",
            "Building wheels for collected packages: pyspark\n",
            "  Building wheel for pyspark (setup.py) ... \u001b[?25l\u001b[?25hdone\n",
            "  Created wheel for pyspark: filename=pyspark-3.5.1-py2.py3-none-any.whl size=317488491 sha256=e1b92d4d1d55fae26a99a485c7a6aaf2ea42f5aa42abfd708953c5d9dbda12fc\n",
            "  Stored in directory: /root/.cache/pip/wheels/80/1d/60/2c256ed38dddce2fdd93be545214a63e02fbd8d74fb0b7f3a6\n",
            "Successfully built pyspark\n",
            "Installing collected packages: pyspark\n",
            "Successfully installed pyspark-3.5.1\n"
          ]
        }
      ],
      "source": [
        "! pip install pyspark"
      ]
    },
    {
      "cell_type": "code",
      "source": [
        "import pyspark"
      ],
      "metadata": {
        "id": "JTMIifJS9ZXV"
      },
      "execution_count": 14,
      "outputs": []
    },
    {
      "cell_type": "markdown",
      "source": [
        "**Start Session**"
      ],
      "metadata": {
        "id": "CNeBq9fP9dzd"
      }
    },
    {
      "cell_type": "code",
      "source": [
        "from pyspark.sql import SparkSession"
      ],
      "metadata": {
        "id": "M3M9fisu9f6D"
      },
      "execution_count": 3,
      "outputs": []
    },
    {
      "cell_type": "code",
      "source": [
        "spark= SparkSession.builder\\\n",
        ".master('local[*]')\\\n",
        ".appName('YBI Foundation')\\\n",
        ".getOrCreate()"
      ],
      "metadata": {
        "id": "SO764EUQ9bVT"
      },
      "execution_count": 4,
      "outputs": []
    },
    {
      "cell_type": "code",
      "source": [
        "spark"
      ],
      "metadata": {
        "colab": {
          "base_uri": "https://localhost:8080/",
          "height": 221
        },
        "id": "d0LNCpTa9gzV",
        "outputId": "c1b55097-4ce2-45de-cd29-6494a9bab562"
      },
      "execution_count": 6,
      "outputs": [
        {
          "output_type": "execute_result",
          "data": {
            "text/plain": [
              "<pyspark.sql.session.SparkSession at 0x7a3f5409ee00>"
            ],
            "text/html": [
              "\n",
              "            <div>\n",
              "                <p><b>SparkSession - in-memory</b></p>\n",
              "                \n",
              "        <div>\n",
              "            <p><b>SparkContext</b></p>\n",
              "\n",
              "            <p><a href=\"http://525ccea5d8b8:4040\">Spark UI</a></p>\n",
              "\n",
              "            <dl>\n",
              "              <dt>Version</dt>\n",
              "                <dd><code>v3.5.1</code></dd>\n",
              "              <dt>Master</dt>\n",
              "                <dd><code>local[*]</code></dd>\n",
              "              <dt>AppName</dt>\n",
              "                <dd><code>YBI Foundation</code></dd>\n",
              "            </dl>\n",
              "        </div>\n",
              "        \n",
              "            </div>\n",
              "        "
            ]
          },
          "metadata": {},
          "execution_count": 6
        }
      ]
    },
    {
      "cell_type": "markdown",
      "source": [
        "***Import Data***"
      ],
      "metadata": {
        "id": "y4r49jgt9z94"
      }
    },
    {
      "cell_type": "code",
      "source": [
        "import pandas as pd\n",
        "house= pd.read_csv('https://github.com/YBIFoundation/Dataset/raw/main/Boston.csv')\n",
        "house.to_csv('house')"
      ],
      "metadata": {
        "id": "4hfkonoD9wg5"
      },
      "execution_count": 12,
      "outputs": []
    },
    {
      "cell_type": "code",
      "source": [
        "df= spark.read.csv('/content/house', header= True, inferSchema= True)"
      ],
      "metadata": {
        "id": "QTAD97A-91hm"
      },
      "execution_count": 13,
      "outputs": []
    },
    {
      "cell_type": "code",
      "source": [
        "# Read databrick in Schema\n",
        "df.show()"
      ],
      "metadata": {
        "colab": {
          "base_uri": "https://localhost:8080/"
        },
        "id": "m3BMKhkSAMxX",
        "outputId": "66a246b3-6987-4253-8624-057cc24d6dc4"
      },
      "execution_count": 15,
      "outputs": [
        {
          "output_type": "stream",
          "name": "stdout",
          "text": [
            "+---+------------------+----+-----+----+-----+-----+-----+------+---+-----+-------+------+-----+----+\n",
            "|_c0|              CRIM|  ZN|INDUS|CHAS|   NX|   RM|  AGE|   DIS|RAD|  TAX|PTRATIO|     B|LSTAT|MEDV|\n",
            "+---+------------------+----+-----+----+-----+-----+-----+------+---+-----+-------+------+-----+----+\n",
            "|  0|           0.00632|18.0| 2.31|   0|0.538|6.575| 65.2|  4.09|  1|296.0|   15.3| 396.9| 4.98|24.0|\n",
            "|  1|           0.02731| 0.0| 7.07|   0|0.469|6.421| 78.9|4.9671|  2|242.0|   17.8| 396.9| 9.14|21.6|\n",
            "|  2|           0.02729| 0.0| 7.07|   0|0.469|7.185| 61.1|4.9671|  2|242.0|   17.8|392.83| 4.03|34.7|\n",
            "|  3|0.0323699999999999| 0.0| 2.18|   0|0.458|6.998| 45.8|6.0622|  3|222.0|   18.7|394.63| 2.94|33.4|\n",
            "|  4|           0.06905| 0.0| 2.18|   0|0.458|7.147| 54.2|6.0622|  3|222.0|   18.7| 396.9| 5.33|36.2|\n",
            "|  5|           0.02985| 0.0| 2.18|   0|0.458| 6.43| 58.7|6.0622|  3|222.0|   18.7|394.12| 5.21|28.7|\n",
            "|  6|           0.08829|12.5| 7.87|   0|0.524|6.012| 66.6|5.5605|  5|311.0|   15.2| 395.6|12.43|22.9|\n",
            "|  7|           0.14455|12.5| 7.87|   0|0.524|6.172| 96.1|5.9505|  5|311.0|   15.2| 396.9|19.15|27.1|\n",
            "|  8|           0.21124|12.5| 7.87|   0|0.524|5.631|100.0|6.0821|  5|311.0|   15.2|386.63|29.93|16.5|\n",
            "|  9|           0.17004|12.5| 7.87|   0|0.524|6.004| 85.9|6.5921|  5|311.0|   15.2|386.71| 17.1|18.9|\n",
            "| 10|           0.22489|12.5| 7.87|   0|0.524|6.377| 94.3|6.3467|  5|311.0|   15.2|392.52|20.45|15.0|\n",
            "| 11|           0.11747|12.5| 7.87|   0|0.524|6.009| 82.9|6.2267|  5|311.0|   15.2| 396.9|13.27|18.9|\n",
            "| 12|           0.09378|12.5| 7.87|   0|0.524|5.889| 39.0|5.4509|  5|311.0|   15.2| 390.5|15.71|21.7|\n",
            "| 13|           0.62976| 0.0| 8.14|   0|0.538|5.949| 61.8|4.7075|  4|307.0|   21.0| 396.9| 8.26|20.4|\n",
            "| 14|0.6379600000000001| 0.0| 8.14|   0|0.538|6.096| 84.5|4.4619|  4|307.0|   21.0|380.02|10.26|18.2|\n",
            "| 15|           0.62739| 0.0| 8.14|   0|0.538|5.834| 56.5|4.4986|  4|307.0|   21.0|395.62| 8.47|19.9|\n",
            "| 16|           1.05393| 0.0| 8.14|   0|0.538|5.935| 29.3|4.4986|  4|307.0|   21.0|386.85| 6.58|23.1|\n",
            "| 17|            0.7842| 0.0| 8.14|   0|0.538| 5.99| 81.7|4.2579|  4|307.0|   21.0|386.75|14.67|17.5|\n",
            "| 18|           0.80271| 0.0| 8.14|   0|0.538|5.456| 36.6|3.7965|  4|307.0|   21.0|288.99|11.69|20.2|\n",
            "| 19|            0.7258| 0.0| 8.14|   0|0.538|5.727| 69.5|3.7965|  4|307.0|   21.0|390.95|11.28|18.2|\n",
            "+---+------------------+----+-----+----+-----+-----+-----+------+---+-----+-------+------+-----+----+\n",
            "only showing top 20 rows\n",
            "\n"
          ]
        }
      ]
    },
    {
      "cell_type": "code",
      "source": [
        "df.printSchema()"
      ],
      "metadata": {
        "colab": {
          "base_uri": "https://localhost:8080/"
        },
        "id": "sIIpZPiREgim",
        "outputId": "f1b4b073-a3cc-4595-fc32-59dc7328c336"
      },
      "execution_count": 19,
      "outputs": [
        {
          "output_type": "stream",
          "name": "stdout",
          "text": [
            "root\n",
            " |-- _c0: integer (nullable = true)\n",
            " |-- CRIM: double (nullable = true)\n",
            " |-- ZN: double (nullable = true)\n",
            " |-- INDUS: double (nullable = true)\n",
            " |-- CHAS: integer (nullable = true)\n",
            " |-- NX: double (nullable = true)\n",
            " |-- RM: double (nullable = true)\n",
            " |-- AGE: double (nullable = true)\n",
            " |-- DIS: double (nullable = true)\n",
            " |-- RAD: integer (nullable = true)\n",
            " |-- TAX: double (nullable = true)\n",
            " |-- PTRATIO: double (nullable = true)\n",
            " |-- B: double (nullable = true)\n",
            " |-- LSTAT: double (nullable = true)\n",
            " |-- MEDV: double (nullable = true)\n",
            "\n"
          ]
        }
      ]
    },
    {
      "cell_type": "code",
      "source": [
        "df.columns"
      ],
      "metadata": {
        "colab": {
          "base_uri": "https://localhost:8080/"
        },
        "id": "NAgmSoYKJUpC",
        "outputId": "206cdb24-f59d-4d93-9d0c-291c81908a69"
      },
      "execution_count": 20,
      "outputs": [
        {
          "output_type": "execute_result",
          "data": {
            "text/plain": [
              "['_c0',\n",
              " 'CRIM',\n",
              " 'ZN',\n",
              " 'INDUS',\n",
              " 'CHAS',\n",
              " 'NX',\n",
              " 'RM',\n",
              " 'AGE',\n",
              " 'DIS',\n",
              " 'RAD',\n",
              " 'TAX',\n",
              " 'PTRATIO',\n",
              " 'B',\n",
              " 'LSTAT',\n",
              " 'MEDV']"
            ]
          },
          "metadata": {},
          "execution_count": 20
        }
      ]
    },
    {
      "cell_type": "code",
      "source": [
        "from pyspark.ml.feature import VectorAssembler"
      ],
      "metadata": {
        "id": "N2SnXQD9JgyZ"
      },
      "execution_count": 21,
      "outputs": []
    },
    {
      "cell_type": "code",
      "source": [
        "featureassembler= VectorAssembler(inputCols=['CRIM',\n",
        " 'ZN',\n",
        " 'INDUS',\n",
        " 'CHAS',\n",
        " 'NX',\n",
        " 'RM',\n",
        " 'AGE',\n",
        " 'DIS',\n",
        " 'RAD',\n",
        " 'TAX',\n",
        " 'PTRATIO',\n",
        " 'B',\n",
        " 'LSTAT'], outputCol='Features')"
      ],
      "metadata": {
        "id": "ez28gQmnJugh"
      },
      "execution_count": 22,
      "outputs": []
    },
    {
      "cell_type": "code",
      "source": [
        "output= featureassembler.transform(df)\n",
        "\n",
        ""
      ],
      "metadata": {
        "id": "TKJRUYLhKLit"
      },
      "execution_count": 23,
      "outputs": []
    },
    {
      "cell_type": "code",
      "source": [
        "output.show()"
      ],
      "metadata": {
        "colab": {
          "base_uri": "https://localhost:8080/"
        },
        "id": "-nyxoFzXKTeZ",
        "outputId": "bd19a90d-6fee-479b-e4b4-e084a1531df5"
      },
      "execution_count": 24,
      "outputs": [
        {
          "output_type": "stream",
          "name": "stdout",
          "text": [
            "+---+------------------+----+-----+----+-----+-----+-----+------+---+-----+-------+------+-----+----+--------------------+\n",
            "|_c0|              CRIM|  ZN|INDUS|CHAS|   NX|   RM|  AGE|   DIS|RAD|  TAX|PTRATIO|     B|LSTAT|MEDV|            Features|\n",
            "+---+------------------+----+-----+----+-----+-----+-----+------+---+-----+-------+------+-----+----+--------------------+\n",
            "|  0|           0.00632|18.0| 2.31|   0|0.538|6.575| 65.2|  4.09|  1|296.0|   15.3| 396.9| 4.98|24.0|[0.00632,18.0,2.3...|\n",
            "|  1|           0.02731| 0.0| 7.07|   0|0.469|6.421| 78.9|4.9671|  2|242.0|   17.8| 396.9| 9.14|21.6|[0.02731,0.0,7.07...|\n",
            "|  2|           0.02729| 0.0| 7.07|   0|0.469|7.185| 61.1|4.9671|  2|242.0|   17.8|392.83| 4.03|34.7|[0.02729,0.0,7.07...|\n",
            "|  3|0.0323699999999999| 0.0| 2.18|   0|0.458|6.998| 45.8|6.0622|  3|222.0|   18.7|394.63| 2.94|33.4|[0.03236999999999...|\n",
            "|  4|           0.06905| 0.0| 2.18|   0|0.458|7.147| 54.2|6.0622|  3|222.0|   18.7| 396.9| 5.33|36.2|[0.06905,0.0,2.18...|\n",
            "|  5|           0.02985| 0.0| 2.18|   0|0.458| 6.43| 58.7|6.0622|  3|222.0|   18.7|394.12| 5.21|28.7|[0.02985,0.0,2.18...|\n",
            "|  6|           0.08829|12.5| 7.87|   0|0.524|6.012| 66.6|5.5605|  5|311.0|   15.2| 395.6|12.43|22.9|[0.08829,12.5,7.8...|\n",
            "|  7|           0.14455|12.5| 7.87|   0|0.524|6.172| 96.1|5.9505|  5|311.0|   15.2| 396.9|19.15|27.1|[0.14455,12.5,7.8...|\n",
            "|  8|           0.21124|12.5| 7.87|   0|0.524|5.631|100.0|6.0821|  5|311.0|   15.2|386.63|29.93|16.5|[0.21124,12.5,7.8...|\n",
            "|  9|           0.17004|12.5| 7.87|   0|0.524|6.004| 85.9|6.5921|  5|311.0|   15.2|386.71| 17.1|18.9|[0.17004,12.5,7.8...|\n",
            "| 10|           0.22489|12.5| 7.87|   0|0.524|6.377| 94.3|6.3467|  5|311.0|   15.2|392.52|20.45|15.0|[0.22489,12.5,7.8...|\n",
            "| 11|           0.11747|12.5| 7.87|   0|0.524|6.009| 82.9|6.2267|  5|311.0|   15.2| 396.9|13.27|18.9|[0.11747,12.5,7.8...|\n",
            "| 12|           0.09378|12.5| 7.87|   0|0.524|5.889| 39.0|5.4509|  5|311.0|   15.2| 390.5|15.71|21.7|[0.09378,12.5,7.8...|\n",
            "| 13|           0.62976| 0.0| 8.14|   0|0.538|5.949| 61.8|4.7075|  4|307.0|   21.0| 396.9| 8.26|20.4|[0.62976,0.0,8.14...|\n",
            "| 14|0.6379600000000001| 0.0| 8.14|   0|0.538|6.096| 84.5|4.4619|  4|307.0|   21.0|380.02|10.26|18.2|[0.63796000000000...|\n",
            "| 15|           0.62739| 0.0| 8.14|   0|0.538|5.834| 56.5|4.4986|  4|307.0|   21.0|395.62| 8.47|19.9|[0.62739,0.0,8.14...|\n",
            "| 16|           1.05393| 0.0| 8.14|   0|0.538|5.935| 29.3|4.4986|  4|307.0|   21.0|386.85| 6.58|23.1|[1.05393,0.0,8.14...|\n",
            "| 17|            0.7842| 0.0| 8.14|   0|0.538| 5.99| 81.7|4.2579|  4|307.0|   21.0|386.75|14.67|17.5|[0.7842,0.0,8.14,...|\n",
            "| 18|           0.80271| 0.0| 8.14|   0|0.538|5.456| 36.6|3.7965|  4|307.0|   21.0|288.99|11.69|20.2|[0.80271,0.0,8.14...|\n",
            "| 19|            0.7258| 0.0| 8.14|   0|0.538|5.727| 69.5|3.7965|  4|307.0|   21.0|390.95|11.28|18.2|[0.7258,0.0,8.14,...|\n",
            "+---+------------------+----+-----+----+-----+-----+-----+------+---+-----+-------+------+-----+----+--------------------+\n",
            "only showing top 20 rows\n",
            "\n"
          ]
        }
      ]
    },
    {
      "cell_type": "code",
      "source": [
        "output.select('Features').show()"
      ],
      "metadata": {
        "colab": {
          "base_uri": "https://localhost:8080/"
        },
        "id": "6F_uFnYyKYsJ",
        "outputId": "c66453f8-1fe4-46a8-a5e5-4884490a5616"
      },
      "execution_count": 25,
      "outputs": [
        {
          "output_type": "stream",
          "name": "stdout",
          "text": [
            "+--------------------+\n",
            "|            Features|\n",
            "+--------------------+\n",
            "|[0.00632,18.0,2.3...|\n",
            "|[0.02731,0.0,7.07...|\n",
            "|[0.02729,0.0,7.07...|\n",
            "|[0.03236999999999...|\n",
            "|[0.06905,0.0,2.18...|\n",
            "|[0.02985,0.0,2.18...|\n",
            "|[0.08829,12.5,7.8...|\n",
            "|[0.14455,12.5,7.8...|\n",
            "|[0.21124,12.5,7.8...|\n",
            "|[0.17004,12.5,7.8...|\n",
            "|[0.22489,12.5,7.8...|\n",
            "|[0.11747,12.5,7.8...|\n",
            "|[0.09378,12.5,7.8...|\n",
            "|[0.62976,0.0,8.14...|\n",
            "|[0.63796000000000...|\n",
            "|[0.62739,0.0,8.14...|\n",
            "|[1.05393,0.0,8.14...|\n",
            "|[0.7842,0.0,8.14,...|\n",
            "|[0.80271,0.0,8.14...|\n",
            "|[0.7258,0.0,8.14,...|\n",
            "+--------------------+\n",
            "only showing top 20 rows\n",
            "\n"
          ]
        }
      ]
    },
    {
      "cell_type": "code",
      "source": [
        "modeldata= output.select('Features', 'MEDV')"
      ],
      "metadata": {
        "id": "3o7qc210L2HZ"
      },
      "execution_count": 26,
      "outputs": []
    },
    {
      "cell_type": "code",
      "source": [
        "modeldata.show()"
      ],
      "metadata": {
        "colab": {
          "base_uri": "https://localhost:8080/"
        },
        "id": "eysnloX7MAXP",
        "outputId": "0fe4c59b-0f9b-4340-8ebb-de0e7573eed1"
      },
      "execution_count": 29,
      "outputs": [
        {
          "output_type": "stream",
          "name": "stdout",
          "text": [
            "+--------------------+----+\n",
            "|            Features|MEDV|\n",
            "+--------------------+----+\n",
            "|[0.00632,18.0,2.3...|24.0|\n",
            "|[0.02731,0.0,7.07...|21.6|\n",
            "|[0.02729,0.0,7.07...|34.7|\n",
            "|[0.03236999999999...|33.4|\n",
            "|[0.06905,0.0,2.18...|36.2|\n",
            "|[0.02985,0.0,2.18...|28.7|\n",
            "|[0.08829,12.5,7.8...|22.9|\n",
            "|[0.14455,12.5,7.8...|27.1|\n",
            "|[0.21124,12.5,7.8...|16.5|\n",
            "|[0.17004,12.5,7.8...|18.9|\n",
            "|[0.22489,12.5,7.8...|15.0|\n",
            "|[0.11747,12.5,7.8...|18.9|\n",
            "|[0.09378,12.5,7.8...|21.7|\n",
            "|[0.62976,0.0,8.14...|20.4|\n",
            "|[0.63796000000000...|18.2|\n",
            "|[0.62739,0.0,8.14...|19.9|\n",
            "|[1.05393,0.0,8.14...|23.1|\n",
            "|[0.7842,0.0,8.14,...|17.5|\n",
            "|[0.80271,0.0,8.14...|20.2|\n",
            "|[0.7258,0.0,8.14,...|18.2|\n",
            "+--------------------+----+\n",
            "only showing top 20 rows\n",
            "\n"
          ]
        }
      ]
    },
    {
      "cell_type": "code",
      "source": [
        "#Split Data\n",
        "\n",
        "train_data, test_data= modeldata.randomSplit([0.8,0.2])"
      ],
      "metadata": {
        "id": "7oqs4YNmMKcp"
      },
      "execution_count": 30,
      "outputs": []
    },
    {
      "cell_type": "code",
      "source": [
        "train_data.show()\n"
      ],
      "metadata": {
        "colab": {
          "base_uri": "https://localhost:8080/"
        },
        "id": "VwbWEUtCMi9g",
        "outputId": "f32e8e7c-a140-4f30-ad7b-e68a25426cb3"
      },
      "execution_count": 31,
      "outputs": [
        {
          "output_type": "stream",
          "name": "stdout",
          "text": [
            "+--------------------+----+\n",
            "|            Features|MEDV|\n",
            "+--------------------+----+\n",
            "|[0.00632,18.0,2.3...|24.0|\n",
            "|[0.00905999999999...|32.2|\n",
            "|[0.01096,55.0,2.2...|22.0|\n",
            "|[0.01300999999999...|32.7|\n",
            "|[0.01311,90.0,1.2...|35.4|\n",
            "|[0.0136,75.0,4.0,...|18.9|\n",
            "|[0.01381,80.0,0.4...|50.0|\n",
            "|[0.01432,100.0,1....|31.6|\n",
            "|[0.01439,60.0,2.9...|29.1|\n",
            "|[0.01500999999999...|24.5|\n",
            "|[0.01500999999999...|50.0|\n",
            "|[0.01778,95.0,1.4...|32.9|\n",
            "|[0.0187,85.0,4.15...|23.1|\n",
            "|[0.01951,17.5,1.3...|33.0|\n",
            "|[0.02009,95.0,2.6...|50.0|\n",
            "|[0.02055,85.0,0.7...|24.7|\n",
            "|[0.02176999999999...|42.3|\n",
            "|[0.02187,60.0,2.9...|31.1|\n",
            "|[0.02498,0.0,1.89...|16.5|\n",
            "|[0.02543,55.0,3.7...|23.9|\n",
            "+--------------------+----+\n",
            "only showing top 20 rows\n",
            "\n"
          ]
        }
      ]
    },
    {
      "cell_type": "code",
      "source": [
        "# Regression Model\n",
        "\n",
        "from pyspark.ml.regression import LinearRegression"
      ],
      "metadata": {
        "id": "wgOTC9HWMmGQ"
      },
      "execution_count": 32,
      "outputs": []
    },
    {
      "cell_type": "code",
      "source": [
        "reg= LinearRegression(featuresCol='Features',labelCol='MEDV')"
      ],
      "metadata": {
        "id": "wtDOkUCwMyER"
      },
      "execution_count": 36,
      "outputs": []
    },
    {
      "cell_type": "code",
      "source": [
        "reg= reg.fit(train_data)"
      ],
      "metadata": {
        "id": "zkXsshMuM_aJ"
      },
      "execution_count": 37,
      "outputs": []
    },
    {
      "cell_type": "code",
      "source": [
        "reg.coefficients"
      ],
      "metadata": {
        "colab": {
          "base_uri": "https://localhost:8080/"
        },
        "id": "VNIZAZf6NSv3",
        "outputId": "bc840779-e466-478e-d2d6-2f57a6d3368c"
      },
      "execution_count": 39,
      "outputs": [
        {
          "output_type": "execute_result",
          "data": {
            "text/plain": [
              "DenseVector([-0.0977, 0.0468, 0.0089, 3.9271, -18.0349, 4.3345, -0.0129, -1.6284, 0.2814, -0.0109, -0.9573, 0.0117, -0.4558])"
            ]
          },
          "metadata": {},
          "execution_count": 39
        }
      ]
    },
    {
      "cell_type": "code",
      "source": [
        "reg.intercept"
      ],
      "metadata": {
        "colab": {
          "base_uri": "https://localhost:8080/"
        },
        "id": "2Gp1hWrXNrsg",
        "outputId": "0a37c8f7-85ea-4575-fa5a-a232101b7e7b"
      },
      "execution_count": 40,
      "outputs": [
        {
          "output_type": "execute_result",
          "data": {
            "text/plain": [
              "32.97570016468667"
            ]
          },
          "metadata": {},
          "execution_count": 40
        }
      ]
    },
    {
      "cell_type": "code",
      "source": [
        "# Prediction\n",
        "reg.transform(test_data).show()"
      ],
      "metadata": {
        "colab": {
          "base_uri": "https://localhost:8080/"
        },
        "id": "QIf2GdMUNv56",
        "outputId": "ca725631-4e37-4112-852b-d8b2a1f2ded4"
      },
      "execution_count": 41,
      "outputs": [
        {
          "output_type": "stream",
          "name": "stdout",
          "text": [
            "+--------------------+----+------------------+\n",
            "|            Features|MEDV|        prediction|\n",
            "+--------------------+----+------------------+\n",
            "|[0.01538,90.0,3.7...|44.0|37.745107639747275|\n",
            "|[0.01709,90.0,2.0...|30.1|24.313721451686423|\n",
            "|[0.01965,80.0,1.7...|20.1| 19.93561902196734|\n",
            "|[0.02729,0.0,7.07...|34.7|30.504455429312724|\n",
            "|[0.03041,0.0,5.19...|18.5|18.819648041559187|\n",
            "|[0.03427,0.0,5.19...|19.5|19.874698111347357|\n",
            "|[0.03537,34.0,6.0...|22.0|29.199805871767907|\n",
            "|[0.03584,80.0,3.3...|23.5|30.410864014527558|\n",
            "|[0.03659,25.0,4.8...|24.8| 26.08131725540952|\n",
            "|[0.03768,80.0,1.5...|34.6|35.080924624000346|\n",
            "|[0.03932,0.0,3.41...|22.0|27.420258043711673|\n",
            "|[0.04011,80.0,1.5...|33.3| 36.40415236302385|\n",
            "|[0.04301,80.0,1.9...|18.2|13.562815166329973|\n",
            "|[0.04378999999999...|19.4|25.519056093960053|\n",
            "|[0.0456,0.0,13.89...|23.3| 27.98882721138211|\n",
            "|[0.04819,80.0,3.6...|21.9| 23.49414275269669|\n",
            "|[0.05058999999999...|23.9|   24.921561584183|\n",
            "|[0.05083,0.0,5.19...|22.2| 21.71172071932168|\n",
            "|[0.05187999999999...|22.5|22.423987557526786|\n",
            "|[0.0536,21.0,5.64...|25.0|  27.5872442833116|\n",
            "+--------------------+----+------------------+\n",
            "only showing top 20 rows\n",
            "\n"
          ]
        }
      ]
    },
    {
      "cell_type": "code",
      "source": [
        "y_pred= reg.evaluate(test_data)"
      ],
      "metadata": {
        "id": "1Xx6S-rdOSY4"
      },
      "execution_count": 42,
      "outputs": []
    },
    {
      "cell_type": "code",
      "source": [
        "y_pred.predictions.show()\n",
        "\n"
      ],
      "metadata": {
        "colab": {
          "base_uri": "https://localhost:8080/"
        },
        "id": "UGeD6ubLOs2p",
        "outputId": "2dacb19e-9a6a-4793-d4e9-5d3b929fd730"
      },
      "execution_count": 43,
      "outputs": [
        {
          "output_type": "stream",
          "name": "stdout",
          "text": [
            "+--------------------+----+------------------+\n",
            "|            Features|MEDV|        prediction|\n",
            "+--------------------+----+------------------+\n",
            "|[0.01538,90.0,3.7...|44.0|37.745107639747275|\n",
            "|[0.01709,90.0,2.0...|30.1|24.313721451686423|\n",
            "|[0.01965,80.0,1.7...|20.1| 19.93561902196734|\n",
            "|[0.02729,0.0,7.07...|34.7|30.504455429312724|\n",
            "|[0.03041,0.0,5.19...|18.5|18.819648041559187|\n",
            "|[0.03427,0.0,5.19...|19.5|19.874698111347357|\n",
            "|[0.03537,34.0,6.0...|22.0|29.199805871767907|\n",
            "|[0.03584,80.0,3.3...|23.5|30.410864014527558|\n",
            "|[0.03659,25.0,4.8...|24.8| 26.08131725540952|\n",
            "|[0.03768,80.0,1.5...|34.6|35.080924624000346|\n",
            "|[0.03932,0.0,3.41...|22.0|27.420258043711673|\n",
            "|[0.04011,80.0,1.5...|33.3| 36.40415236302385|\n",
            "|[0.04301,80.0,1.9...|18.2|13.562815166329973|\n",
            "|[0.04378999999999...|19.4|25.519056093960053|\n",
            "|[0.0456,0.0,13.89...|23.3| 27.98882721138211|\n",
            "|[0.04819,80.0,3.6...|21.9| 23.49414275269669|\n",
            "|[0.05058999999999...|23.9|   24.921561584183|\n",
            "|[0.05083,0.0,5.19...|22.2| 21.71172071932168|\n",
            "|[0.05187999999999...|22.5|22.423987557526786|\n",
            "|[0.0536,21.0,5.64...|25.0|  27.5872442833116|\n",
            "+--------------------+----+------------------+\n",
            "only showing top 20 rows\n",
            "\n"
          ]
        }
      ]
    },
    {
      "cell_type": "code",
      "source": [
        "y_pred.meanAbsoluteError"
      ],
      "metadata": {
        "colab": {
          "base_uri": "https://localhost:8080/"
        },
        "id": "gRY1YPAMO3Km",
        "outputId": "212983ff-eb0a-4e3a-b6af-675c04386e07"
      },
      "execution_count": 44,
      "outputs": [
        {
          "output_type": "execute_result",
          "data": {
            "text/plain": [
              "2.9603387627104913"
            ]
          },
          "metadata": {},
          "execution_count": 44
        }
      ]
    },
    {
      "cell_type": "code",
      "source": [
        "y_pred.r2"
      ],
      "metadata": {
        "colab": {
          "base_uri": "https://localhost:8080/"
        },
        "id": "zcm_X-rBO6RJ",
        "outputId": "4828eb92-7cab-45a2-f76a-2a8205052824"
      },
      "execution_count": 45,
      "outputs": [
        {
          "output_type": "execute_result",
          "data": {
            "text/plain": [
              "0.6758858278639859"
            ]
          },
          "metadata": {},
          "execution_count": 45
        }
      ]
    },
    {
      "cell_type": "code",
      "source": [
        "spark.stop()"
      ],
      "metadata": {
        "id": "jxLgMYobO78_"
      },
      "execution_count": 46,
      "outputs": []
    },
    {
      "cell_type": "code",
      "source": [],
      "metadata": {
        "id": "MRWVBuL_PCCv"
      },
      "execution_count": null,
      "outputs": []
    }
  ]
}