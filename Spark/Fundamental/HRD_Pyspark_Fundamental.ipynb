{
  "nbformat": 4,
  "nbformat_minor": 0,
  "metadata": {
    "colab": {
      "provenance": []
    },
    "kernelspec": {
      "name": "python3",
      "display_name": "Python 3"
    },
    "language_info": {
      "name": "python"
    }
  },
  "cells": [
    {
      "cell_type": "markdown",
      "source": [
        "**Import Pyspark**"
      ],
      "metadata": {
        "id": "3ZD3ihp0tQNs"
      }
    },
    {
      "cell_type": "code",
      "execution_count": 1,
      "metadata": {
        "colab": {
          "base_uri": "https://localhost:8080/"
        },
        "id": "jf2wRConYe-z",
        "outputId": "54037fde-5600-4e56-aae5-750e93898c37"
      },
      "outputs": [
        {
          "output_type": "stream",
          "name": "stdout",
          "text": [
            "Collecting pyspark\n",
            "  Downloading pyspark-3.5.1.tar.gz (317.0 MB)\n",
            "\u001b[2K     \u001b[90m━━━━━━━━━━━━━━━━━━━━━━━━━━━━━━━━━━━━━━━━\u001b[0m \u001b[32m317.0/317.0 MB\u001b[0m \u001b[31m2.2 MB/s\u001b[0m eta \u001b[36m0:00:00\u001b[0m\n",
            "\u001b[?25h  Preparing metadata (setup.py) ... \u001b[?25l\u001b[?25hdone\n",
            "Requirement already satisfied: py4j==0.10.9.7 in /usr/local/lib/python3.10/dist-packages (from pyspark) (0.10.9.7)\n",
            "Building wheels for collected packages: pyspark\n",
            "  Building wheel for pyspark (setup.py) ... \u001b[?25l\u001b[?25hdone\n",
            "  Created wheel for pyspark: filename=pyspark-3.5.1-py2.py3-none-any.whl size=317488493 sha256=f06e1ac1807f4dc5e18ac754857760decc9a8f2eb9f3300287e142794173b613\n",
            "  Stored in directory: /root/.cache/pip/wheels/80/1d/60/2c256ed38dddce2fdd93be545214a63e02fbd8d74fb0b7f3a6\n",
            "Successfully built pyspark\n",
            "Installing collected packages: pyspark\n",
            "Successfully installed pyspark-3.5.1\n"
          ]
        }
      ],
      "source": [
        "! pip install pyspark"
      ]
    },
    {
      "cell_type": "markdown",
      "source": [
        "**Create Spark Session**"
      ],
      "metadata": {
        "id": "2GMguk_dtWl7"
      }
    },
    {
      "cell_type": "code",
      "source": [
        "import pyspark"
      ],
      "metadata": {
        "id": "_3JT7HsTtPMB"
      },
      "execution_count": 2,
      "outputs": []
    },
    {
      "cell_type": "code",
      "source": [
        "from pyspark.sql import SparkSession"
      ],
      "metadata": {
        "id": "wloqap5uYl7X"
      },
      "execution_count": 3,
      "outputs": []
    },
    {
      "cell_type": "code",
      "source": [
        "spark= SparkSession.builder.getOrCreate()"
      ],
      "metadata": {
        "id": "v_hMbCd6uMV2"
      },
      "execution_count": 4,
      "outputs": []
    },
    {
      "cell_type": "code",
      "source": [
        "spark"
      ],
      "metadata": {
        "colab": {
          "base_uri": "https://localhost:8080/",
          "height": 219
        },
        "id": "Bvc8HN2Iuv-u",
        "outputId": "e7d59fdf-85d0-4bfc-fb71-736bf0863e82"
      },
      "execution_count": 6,
      "outputs": [
        {
          "output_type": "execute_result",
          "data": {
            "text/plain": [
              "<pyspark.sql.session.SparkSession at 0x7f2c44f4d4e0>"
            ],
            "text/html": [
              "\n",
              "            <div>\n",
              "                <p><b>SparkSession - in-memory</b></p>\n",
              "                \n",
              "        <div>\n",
              "            <p><b>SparkContext</b></p>\n",
              "\n",
              "            <p><a href=\"http://b46e5598e1ac:4040\">Spark UI</a></p>\n",
              "\n",
              "            <dl>\n",
              "              <dt>Version</dt>\n",
              "                <dd><code>v3.5.1</code></dd>\n",
              "              <dt>Master</dt>\n",
              "                <dd><code>local[*]</code></dd>\n",
              "              <dt>AppName</dt>\n",
              "                <dd><code>pyspark-shell</code></dd>\n",
              "            </dl>\n",
              "        </div>\n",
              "        \n",
              "            </div>\n",
              "        "
            ]
          },
          "metadata": {},
          "execution_count": 6
        }
      ]
    },
    {
      "cell_type": "code",
      "source": [
        "sdf= spark.read.csv('/HR50k.csv', header= True, inferSchema=True)"
      ],
      "metadata": {
        "id": "W74JnL2yvCHg"
      },
      "execution_count": 29,
      "outputs": []
    },
    {
      "cell_type": "code",
      "source": [
        "sdf.show()"
      ],
      "metadata": {
        "colab": {
          "base_uri": "https://localhost:8080/"
        },
        "id": "55Wod43h63_9",
        "outputId": "6957ca30-8cd2-4570-a2dd-dc5fb3b6e263"
      },
      "execution_count": 30,
      "outputs": [
        {
          "output_type": "stream",
          "name": "stdout",
          "text": [
            "+---+---------+-----------------+---------+--------------------+----------------+---------+----------------+-------------+--------------+-----------------------+------+----------+--------------+--------+--------------------+---------------+-------------+-------------+-----------+------------------+------+--------+-----------------+-----------------+------------------------+-------------+----------------+-----------------+---------------------+---------------+--------------+------------------+-----------------------+--------------------+\n",
            "|Age|Attrition|   BusinessTravel|DailyRate|          Department|DistanceFromHome|Education|  EducationField|EmployeeCount|EmployeeNumber|EnvironmentSatisfaction|Gender|HourlyRate|JobInvolvement|JobLevel|             JobRole|JobSatisfaction|MaritalStatus|MonthlyIncome|MonthlyRate|NumCompaniesWorked|Over18|OverTime|PercentSalaryHike|PerformanceRating|RelationshipSatisfaction|StandardHours|StockOptionLevel|TotalWorkingYears|TrainingTimesLastYear|WorkLifeBalance|YearsAtCompany|YearsInCurrentRole|YearsSinceLastPromotion|YearsWithCurrManager|\n",
            "+---+---------+-----------------+---------+--------------------+----------------+---------+----------------+-------------+--------------+-----------------------+------+----------+--------------+--------+--------------------+---------------+-------------+-------------+-----------+------------------+------+--------+-----------------+-----------------+------------------------+-------------+----------------+-----------------+---------------------+---------------+--------------+------------------+-----------------------+--------------------+\n",
            "| 31|       No|       Non-Travel|      158|            Software|               7|        3|         Medical|            1|             1|                      3|  Male|        42|             2|       3|           Developer|              1|      Married|        42682|     298774|                 2|     Y|      No|               20|                4|                       1|           80|               2|               15|                    1|              2|            12|                 4|                     10|                  11|\n",
            "| 38|       No|    Travel_Rarely|      985|     Human Resources|              33|        5|   Life Sciences|            1|             2|                      1|Female|        66|             2|       4|Healthcare Repres...|              3|       Single|        45252|      45252|                 8|     Y|      No|                2|                1|                       3|           80|               4|                5|                    4|              3|             1|                 1|                      1|                   1|\n",
            "| 59|      Yes|       Non-Travel|     1273|               Sales|               5|        2|Technical Degree|            1|             3|                      4|Female|        96|             1|       3|Manufacturing Dir...|              2|      Married|        46149|     507639|                 7|     Y|     Yes|               39|                3|                       2|           80|               2|                9|                    5|              1|             6|                 6|                      4|                   3|\n",
            "| 52|      Yes|    Travel_Rarely|      480|             Support|               2|        5|       Marketing|            1|             4|                      4|Female|        71|             2|       4|     Human Resources|              1|      Married|        27150|      27150|                 4|     Y|      No|               16|                3|                       2|           80|               2|               22|                    4|              4|            10|                 9|                      5|                   6|\n",
            "| 32|       No|       Non-Travel|      543|     Human Resources|               7|        5| Human Resources|            1|             5|                      2|  Male|       122|             3|       3|             Manager|              2|     Divorced|        15894|      47682|                 6|     Y|     Yes|               42|                3|                       4|           80|               2|               30|                    3|              4|            29|                27|                      9|                   7|\n",
            "| 19|      Yes|       Non-Travel|      779|            Hardware|              43|        1|         Medical|            1|             6|                      2|Female|       195|             4|       3|   Research Director|              3|      Married|        41552|    1246560|                 3|     Y|     Yes|               15|                4|                       3|           80|               1|               33|                    4|              2|            16|                 4|                     14|                   3|\n",
            "| 42|      Yes|       Non-Travel|      934|             Support|              26|        4| Human Resources|            1|             7|                      2|Female|        80|             3|       5|     Sales Executive|              4|     Divorced|         5303|     148484|                 3|     Y|      No|               45|                4|                       1|           80|               1|                4|                    3|              4|             2|                 1|                      1|                   2|\n",
            "| 30|       No|    Travel_Rarely|      380|             Support|              19|        3|       Marketing|            1|             8|                      4|  Male|       165|             1|       4|     Human Resources|              4|       Single|        28555|     571100|                 2|     Y|     Yes|               35|                3|                       2|           80|               1|                2|                    2|              2|             2|                 2|                      2|                   2|\n",
            "| 41|       No|Travel_Frequently|     1464|            Software|              16|        1|   Life Sciences|            1|             9|                      3|  Male|       134|             1|       2|             Manager|              4|     Divorced|         3241|      87507|                 7|     Y|      No|                1|                1|                       3|           80|               2|                8|                    1|              2|             2|                 1|                      2|                   2|\n",
            "| 45|       No|Travel_Frequently|     1020|     Human Resources|              17|        5|   Life Sciences|            1|            10|                      4|Female|       137|             2|       4|             Manager|              2|      Married|         4323|     116721|                 4|     Y|     Yes|               32|                1|                       3|           80|               4|                6|                    4|              4|             5|                 3|                      4|                   1|\n",
            "| 36|       No|    Travel_Rarely|      987|               Sales|              33|        4|           Other|            1|            11|                      3|  Male|       159|             3|       1|     Human Resources|              3|      Married|        10587|      95283|                 0|     Y|     Yes|               47|                4|                       2|           80|               1|               38|                    3|              4|            24|                19|                      8|                   6|\n",
            "| 23|       No|Travel_Frequently|      135|     Human Resources|              20|        4|   Life Sciences|            1|            12|                      2|Female|        51|             2|       2|Manufacturing Dir...|              2|     Divorced|         7446|     141474|                 8|     Y|     Yes|               44|                1|                       2|           80|               4|               16|                    5|              3|             8|                 6|                      7|                   6|\n",
            "| 24|      Yes|       Non-Travel|     1086|             Support|              15|        1|       Marketing|            1|            13|                      4|Female|       189|             3|       1|Manufacturing Dir...|              4|      Married|        34153|     648907|                 7|     Y|      No|               17|                1|                       3|           80|               1|               30|                    2|              2|            15|                 3|                      8|                   4|\n",
            "| 39|      Yes|       Non-Travel|      673|Research & Develo...|              16|        2| Human Resources|            1|            14|                      2|Female|        69|             4|       2|     Sales Executive|              2|      Married|        47844|     382752|                 1|     Y|      No|               47|                1|                       4|           80|               1|               14|                    4|              2|            13|                 9|                     11|                   5|\n",
            "| 42|      Yes|    Travel_Rarely|      145|     Human Resources|              31|        3|   Life Sciences|            1|            15|                      3|  Male|       127|             3|       1|           Developer|              4|      Married|        21432|      21432|                 4|     Y|     Yes|               48|                2|                       1|           80|               4|                2|                    6|              2|             1|                 1|                      1|                   1|\n",
            "| 44|      Yes|Travel_Frequently|      717|            Software|              10|        2| Human Resources|            1|            16|                      3|Female|       151|             1|       5|Sales Representative|              4|     Divorced|        50393|    1058253|                 6|     Y|     Yes|               42|                2|                       1|           80|               2|               27|                    3|              1|            27|                13|                     18|                  18|\n",
            "| 50|      Yes|Travel_Frequently|      460|Research & Develo...|              10|        4| Human Resources|            1|            17|                      4|  Male|       181|             2|       5|             Manager|              3|     Divorced|        22090|      66270|                 7|     Y|      No|               19|                2|                       1|           80|               2|               14|                    3|              3|             5|                 3|                      4|                   5|\n",
            "| 42|       No|    Travel_Rarely|     1422|            Software|              26|        4|   Life Sciences|            1|            18|                      4|Female|        92|             4|       5|           Developer|              3|       Single|        47968|      47968|                 3|     Y|     Yes|               41|                4|                       2|           80|               1|                5|                    4|              3|             4|                 1|                      2|                   3|\n",
            "| 49|       No|Travel_Frequently|      129|Research & Develo...|              41|        1|Technical Degree|            1|            19|                      3|Female|        81|             2|       1|             Manager|              1|     Divorced|        24665|      98660|                 0|     Y|      No|               17|                2|                       3|           80|               4|                7|                    1|              3|             6|                 4|                      3|                   4|\n",
            "| 58|      Yes|    Travel_Rarely|      637|             Support|               5|        4|Technical Degree|            1|            20|                      2|Female|        66|             3|       5|             Manager|              2|      Married|        41084|     903848|                 7|     Y|      No|               46|                1|                       3|           80|               3|               39|                    6|              4|            17|                 3|                     13|                   4|\n",
            "+---+---------+-----------------+---------+--------------------+----------------+---------+----------------+-------------+--------------+-----------------------+------+----------+--------------+--------+--------------------+---------------+-------------+-------------+-----------+------------------+------+--------+-----------------+-----------------+------------------------+-------------+----------------+-----------------+---------------------+---------------+--------------+------------------+-----------------------+--------------------+\n",
            "only showing top 20 rows\n",
            "\n"
          ]
        }
      ]
    },
    {
      "cell_type": "code",
      "source": [
        "sdf.dtypes"
      ],
      "metadata": {
        "colab": {
          "base_uri": "https://localhost:8080/"
        },
        "id": "fBf01pg29Utl",
        "outputId": "771e7ddb-c0b9-4c3a-8f1a-f85ac95ef448"
      },
      "execution_count": 33,
      "outputs": [
        {
          "output_type": "execute_result",
          "data": {
            "text/plain": [
              "[('Age', 'int'),\n",
              " ('Attrition', 'string'),\n",
              " ('BusinessTravel', 'string'),\n",
              " ('DailyRate', 'int'),\n",
              " ('Department', 'string'),\n",
              " ('DistanceFromHome', 'int'),\n",
              " ('Education', 'int'),\n",
              " ('EducationField', 'string'),\n",
              " ('EmployeeCount', 'int'),\n",
              " ('EmployeeNumber', 'int'),\n",
              " ('EnvironmentSatisfaction', 'int'),\n",
              " ('Gender', 'string'),\n",
              " ('HourlyRate', 'int'),\n",
              " ('JobInvolvement', 'int'),\n",
              " ('JobLevel', 'int'),\n",
              " ('JobRole', 'string'),\n",
              " ('JobSatisfaction', 'int'),\n",
              " ('MaritalStatus', 'string'),\n",
              " ('MonthlyIncome', 'int'),\n",
              " ('MonthlyRate', 'int'),\n",
              " ('NumCompaniesWorked', 'int'),\n",
              " ('Over18', 'string'),\n",
              " ('OverTime', 'string'),\n",
              " ('PercentSalaryHike', 'int'),\n",
              " ('PerformanceRating', 'int'),\n",
              " ('RelationshipSatisfaction', 'int'),\n",
              " ('StandardHours', 'int'),\n",
              " ('StockOptionLevel', 'int'),\n",
              " ('TotalWorkingYears', 'int'),\n",
              " ('TrainingTimesLastYear', 'int'),\n",
              " ('WorkLifeBalance', 'int'),\n",
              " ('YearsAtCompany', 'int'),\n",
              " ('YearsInCurrentRole', 'int'),\n",
              " ('YearsSinceLastPromotion', 'int'),\n",
              " ('YearsWithCurrManager', 'int')]"
            ]
          },
          "metadata": {},
          "execution_count": 33
        }
      ]
    },
    {
      "cell_type": "markdown",
      "source": [
        "**Exploring the Dataset**"
      ],
      "metadata": {
        "id": "3GUBcrFb-rP3"
      }
    },
    {
      "cell_type": "code",
      "source": [
        "sdf.columns"
      ],
      "metadata": {
        "colab": {
          "base_uri": "https://localhost:8080/"
        },
        "id": "vLypO3ly9-tk",
        "outputId": "69d6695e-0174-42b1-c224-41bcbcfa821b"
      },
      "execution_count": 34,
      "outputs": [
        {
          "output_type": "execute_result",
          "data": {
            "text/plain": [
              "['Age',\n",
              " 'Attrition',\n",
              " 'BusinessTravel',\n",
              " 'DailyRate',\n",
              " 'Department',\n",
              " 'DistanceFromHome',\n",
              " 'Education',\n",
              " 'EducationField',\n",
              " 'EmployeeCount',\n",
              " 'EmployeeNumber',\n",
              " 'EnvironmentSatisfaction',\n",
              " 'Gender',\n",
              " 'HourlyRate',\n",
              " 'JobInvolvement',\n",
              " 'JobLevel',\n",
              " 'JobRole',\n",
              " 'JobSatisfaction',\n",
              " 'MaritalStatus',\n",
              " 'MonthlyIncome',\n",
              " 'MonthlyRate',\n",
              " 'NumCompaniesWorked',\n",
              " 'Over18',\n",
              " 'OverTime',\n",
              " 'PercentSalaryHike',\n",
              " 'PerformanceRating',\n",
              " 'RelationshipSatisfaction',\n",
              " 'StandardHours',\n",
              " 'StockOptionLevel',\n",
              " 'TotalWorkingYears',\n",
              " 'TrainingTimesLastYear',\n",
              " 'WorkLifeBalance',\n",
              " 'YearsAtCompany',\n",
              " 'YearsInCurrentRole',\n",
              " 'YearsSinceLastPromotion',\n",
              " 'YearsWithCurrManager']"
            ]
          },
          "metadata": {},
          "execution_count": 34
        }
      ]
    },
    {
      "cell_type": "code",
      "source": [
        "sdf.describe().show()"
      ],
      "metadata": {
        "colab": {
          "base_uri": "https://localhost:8080/"
        },
        "id": "pY8h9dXF-wWM",
        "outputId": "8c493bd3-a7a7-4b72-82ac-74cd2cf2d5aa"
      },
      "execution_count": 35,
      "outputs": [
        {
          "output_type": "stream",
          "name": "stdout",
          "text": [
            "+-------+-----------------+---------+--------------+------------------+----------+------------------+------------------+----------------+-------------+-----------------+-----------------------+------+-----------------+-----------------+------------------+--------------------+------------------+-------------+------------------+------------------+------------------+------+--------+------------------+------------------+------------------------+-------------+------------------+------------------+---------------------+------------------+-----------------+------------------+-----------------------+--------------------+\n",
            "|summary|              Age|Attrition|BusinessTravel|         DailyRate|Department|  DistanceFromHome|         Education|  EducationField|EmployeeCount|   EmployeeNumber|EnvironmentSatisfaction|Gender|       HourlyRate|   JobInvolvement|          JobLevel|             JobRole|   JobSatisfaction|MaritalStatus|     MonthlyIncome|       MonthlyRate|NumCompaniesWorked|Over18|OverTime| PercentSalaryHike| PerformanceRating|RelationshipSatisfaction|StandardHours|  StockOptionLevel| TotalWorkingYears|TrainingTimesLastYear|   WorkLifeBalance|   YearsAtCompany|YearsInCurrentRole|YearsSinceLastPromotion|YearsWithCurrManager|\n",
            "+-------+-----------------+---------+--------------+------------------+----------+------------------+------------------+----------------+-------------+-----------------+-----------------------+------+-----------------+-----------------+------------------+--------------------+------------------+-------------+------------------+------------------+------------------+------+--------+------------------+------------------+------------------------+-------------+------------------+------------------+---------------------+------------------+-----------------+------------------+-----------------------+--------------------+\n",
            "|  count|            50000|    50000|         50000|             50000|     50000|             50000|             50000|           50000|        50000|            50000|                  50000| 50000|            50000|            50000|             50000|               50000|             50000|        50000|             50000|             50000|             50000| 50000|   50000|             50000|             50000|                   50000|        50000|             50000|             50000|                50000|             50000|            50000|             50000|                  50000|               50000|\n",
            "|   mean|         38.97148|     NULL|          NULL|         798.67756|      NULL|          25.53978|            3.0046|            NULL|          1.0|          25000.5|                2.49836|  NULL|        115.43294|          2.50262|           2.99464|                NULL|           2.48738|         NULL|       26015.78126|      404043.57942|             3.999|  NULL|    NULL|          24.61832|           2.49596|                 2.50222|         80.0|           2.50378|          20.49686|              3.49398|           2.49872|          10.7711|            5.9073|                5.87182|             5.88904|\n",
            "| stddev|12.42083379455027|     NULL|          NULL|405.08021678685725|      NULL|14.339955726507823|1.4142485078573823|            NULL|          0.0|14433.90106658626|      1.119670658563342|  NULL|49.42486660887611|1.120543728716091|1.4159983656160842|                NULL|1.1163089440263205|         NULL|14410.977499609877|340190.81112818094| 2.582373399229366|  NULL|    NULL|14.405000189455322|1.1180915351497904|      1.1179177368667783|          0.0|1.1189328629614141|11.575819199184258|   1.7081516663464946|1.1141199158365949|8.934229748513532| 6.034377762810301|      5.999055730779056|   6.009613147899259|\n",
            "|    min|               18|       No|    Non-Travel|               100|  Hardware|                 1|                 1| Human Resources|            1|                1|                      1|Female|               30|                1|                 1|           Developer|                 1|     Divorced|              1001|              1007|                 0|     Y|      No|                 0|                 1|                       1|           80|                 1|                 1|                    1|                 1|                1|                 1|                      1|                   1|\n",
            "|    max|               60|      Yes| Travel_Rarely|              1500|   Support|                50|                 5|Technical Degree|            1|            50000|                      4|  Male|              200|                4|                 5|Sales Representative|                 4|       Single|             50999|           1528290|                 8|     Y|     Yes|                49|                 4|                       4|           80|                 4|                40|                    6|                 4|               40|                40|                     40|                  40|\n",
            "+-------+-----------------+---------+--------------+------------------+----------+------------------+------------------+----------------+-------------+-----------------+-----------------------+------+-----------------+-----------------+------------------+--------------------+------------------+-------------+------------------+------------------+------------------+------+--------+------------------+------------------+------------------------+-------------+------------------+------------------+---------------------+------------------+-----------------+------------------+-----------------------+--------------------+\n",
            "\n"
          ]
        }
      ]
    },
    {
      "cell_type": "code",
      "source": [
        "sdf.select(['Gender', 'EducationField']).show()"
      ],
      "metadata": {
        "colab": {
          "base_uri": "https://localhost:8080/"
        },
        "id": "uqyzNeQG_apE",
        "outputId": "50ab1030-edff-457e-808c-e1b7935f5459"
      },
      "execution_count": 40,
      "outputs": [
        {
          "output_type": "stream",
          "name": "stdout",
          "text": [
            "+------+----------------+\n",
            "|Gender|  EducationField|\n",
            "+------+----------------+\n",
            "|  Male|         Medical|\n",
            "|Female|   Life Sciences|\n",
            "|Female|Technical Degree|\n",
            "|Female|       Marketing|\n",
            "|  Male| Human Resources|\n",
            "|Female|         Medical|\n",
            "|Female| Human Resources|\n",
            "|  Male|       Marketing|\n",
            "|  Male|   Life Sciences|\n",
            "|Female|   Life Sciences|\n",
            "|  Male|           Other|\n",
            "|Female|   Life Sciences|\n",
            "|Female|       Marketing|\n",
            "|Female| Human Resources|\n",
            "|  Male|   Life Sciences|\n",
            "|Female| Human Resources|\n",
            "|  Male| Human Resources|\n",
            "|Female|   Life Sciences|\n",
            "|Female|Technical Degree|\n",
            "|Female|Technical Degree|\n",
            "+------+----------------+\n",
            "only showing top 20 rows\n",
            "\n"
          ]
        }
      ]
    },
    {
      "cell_type": "code",
      "source": [
        "sdf['Age']< 20"
      ],
      "metadata": {
        "colab": {
          "base_uri": "https://localhost:8080/"
        },
        "id": "xKaHC5vhAmOM",
        "outputId": "3ad655d9-4b54-4c9c-9cff-6ef1a9b76921"
      },
      "execution_count": 45,
      "outputs": [
        {
          "output_type": "execute_result",
          "data": {
            "text/plain": [
              "Column<'(Age < 20)'>"
            ]
          },
          "metadata": {},
          "execution_count": 45
        }
      ]
    },
    {
      "cell_type": "code",
      "source": [
        "sdf.filter(sdf['Age']< 20).show()"
      ],
      "metadata": {
        "colab": {
          "base_uri": "https://localhost:8080/"
        },
        "id": "MeOTWfEQCGLg",
        "outputId": "24c974ac-4ddb-4470-e2aa-47d7df43bbac"
      },
      "execution_count": 49,
      "outputs": [
        {
          "output_type": "stream",
          "name": "stdout",
          "text": [
            "+---+---------+-----------------+---------+--------------------+----------------+---------+----------------+-------------+--------------+-----------------------+------+----------+--------------+--------+--------------------+---------------+-------------+-------------+-----------+------------------+------+--------+-----------------+-----------------+------------------------+-------------+----------------+-----------------+---------------------+---------------+--------------+------------------+-----------------------+--------------------+\n",
            "|Age|Attrition|   BusinessTravel|DailyRate|          Department|DistanceFromHome|Education|  EducationField|EmployeeCount|EmployeeNumber|EnvironmentSatisfaction|Gender|HourlyRate|JobInvolvement|JobLevel|             JobRole|JobSatisfaction|MaritalStatus|MonthlyIncome|MonthlyRate|NumCompaniesWorked|Over18|OverTime|PercentSalaryHike|PerformanceRating|RelationshipSatisfaction|StandardHours|StockOptionLevel|TotalWorkingYears|TrainingTimesLastYear|WorkLifeBalance|YearsAtCompany|YearsInCurrentRole|YearsSinceLastPromotion|YearsWithCurrManager|\n",
            "+---+---------+-----------------+---------+--------------------+----------------+---------+----------------+-------------+--------------+-----------------------+------+----------+--------------+--------+--------------------+---------------+-------------+-------------+-----------+------------------+------+--------+-----------------+-----------------+------------------------+-------------+----------------+-----------------+---------------------+---------------+--------------+------------------+-----------------------+--------------------+\n",
            "| 19|      Yes|       Non-Travel|      779|            Hardware|              43|        1|         Medical|            1|             6|                      2|Female|       195|             4|       3|   Research Director|              3|      Married|        41552|    1246560|                 3|     Y|     Yes|               15|                4|                       3|           80|               1|               33|                    4|              2|            16|                 4|                     14|                   3|\n",
            "| 18|      Yes|    Travel_Rarely|      414|     Human Resources|              25|        4|Technical Degree|            1|            57|                      4|Female|       181|             4|       3|Sales Representative|              1|       Single|        37768|     604288|                 8|     Y|      No|               29|                1|                       1|           80|               2|                9|                    1|              1|             5|                 1|                      5|                   4|\n",
            "| 18|       No|       Non-Travel|      314|            Software|              39|        4|Technical Degree|            1|            76|                      3|Female|        70|             4|       4|Laboratory Techni...|              3|     Divorced|        39184|     470208|                 5|     Y|     Yes|               23|                3|                       2|           80|               1|               36|                    2|              4|            29|                 7|                     13|                  27|\n",
            "| 19|      Yes|Travel_Frequently|      464|            Hardware|              22|        4|Technical Degree|            1|            80|                      2|Female|       193|             4|       4|           Developer|              4|       Single|        14031|     364806|                 1|     Y|      No|               18|                2|                       4|           80|               4|               24|                    6|              2|             7|                 5|                      1|                   4|\n",
            "| 18|      Yes|Travel_Frequently|      727|             Support|              41|        3|           Other|            1|            92|                      1|  Male|       191|             1|       1|     Sales Executive|              2|     Divorced|         2125|      21250|                 6|     Y|     Yes|               30|                1|                       2|           80|               1|                9|                    1|              1|             9|                 3|                      8|                   1|\n",
            "| 19|       No|       Non-Travel|     1062|               Sales|              42|        5|Technical Degree|            1|           153|                      1|  Male|       138|             4|       4|   Research Director|              4|     Divorced|        42695|     384255|                 4|     Y|      No|               30|                2|                       1|           80|               4|                4|                    2|              3|             2|                 1|                      1|                   1|\n",
            "| 18|       No|Travel_Frequently|     1256|            Hardware|               2|        3|Technical Degree|            1|           157|                      2|Female|       147|             4|       1|           Developer|              3|       Single|        11535|     253770|                 0|     Y|      No|               35|                2|                       2|           80|               2|                8|                    3|              2|             2|                 1|                      2|                   1|\n",
            "| 19|      Yes|Travel_Frequently|     1347|               Sales|              29|        2|           Other|            1|           196|                      4|  Male|       162|             2|       4|     Human Resources|              4|       Single|         5476|      82140|                 5|     Y|     Yes|               11|                1|                       1|           80|               2|               40|                    3|              1|            17|                 1|                     11|                   3|\n",
            "| 19|       No|    Travel_Rarely|     1481|               Sales|              24|        4|         Medical|            1|           199|                      4|  Male|        50|             4|       2|     Human Resources|              3|     Divorced|        49998|     649974|                 4|     Y|     Yes|                0|                3|                       2|           80|               3|               34|                    6|              4|            10|                 9|                      8|                   8|\n",
            "| 19|       No|       Non-Travel|      797|Research & Develo...|              22|        2| Human Resources|            1|           202|                      3|  Male|       116|             3|       4|             Manager|              3|      Married|        20919|     230109|                 7|     Y|      No|                9|                2|                       1|           80|               2|               29|                    4|              2|             8|                 7|                      6|                   5|\n",
            "| 18|      Yes|Travel_Frequently|     1185|            Hardware|              25|        3|Technical Degree|            1|           207|                      1|Female|       163|             1|       5|Manufacturing Dir...|              2|     Divorced|         9065|      81585|                 0|     Y|     Yes|                6|                1|                       2|           80|               3|                7|                    6|              2|             6|                 1|                      6|                   6|\n",
            "| 18|       No|       Non-Travel|     1286|Research & Develo...|              22|        4|       Marketing|            1|           222|                      1|  Male|        83|             3|       2|  Research Scientist|              4|       Single|        12776|      12776|                 7|     Y|      No|                5|                3|                       1|           80|               3|                1|                    4|              3|             1|                 1|                      1|                   1|\n",
            "| 19|      Yes|    Travel_Rarely|      489|             Support|               9|        5|   Life Sciences|            1|           230|                      3|  Male|        75|             3|       3|Healthcare Repres...|              1|     Divorced|        40253|     805060|                 7|     Y|     Yes|               12|                4|                       3|           80|               2|               31|                    1|              3|            28|                 4|                     19|                  11|\n",
            "| 19|       No|       Non-Travel|     1012|     Human Resources|              24|        5|           Other|            1|           322|                      1|  Male|       174|             2|       2|Healthcare Repres...|              3|       Single|        26878|     618194|                 7|     Y|      No|               25|                1|                       2|           80|               3|                2|                    3|              4|             1|                 1|                      1|                   1|\n",
            "| 18|       No|       Non-Travel|      916|               Sales|               2|        4|Technical Degree|            1|           358|                      3|  Male|       167|             2|       2|   Research Director|              1|     Divorced|        42026|     294182|                 0|     Y|      No|               35|                2|                       3|           80|               2|               23|                    1|              2|            21|                16|                      1|                  16|\n",
            "| 19|      Yes|    Travel_Rarely|      368|            Software|              39|        4|         Medical|            1|           369|                      4|  Male|        72|             3|       5|           Developer|              1|      Married|        20473|     614190|                 6|     Y|     Yes|               24|                4|                       4|           80|               2|               37|                    5|              1|            32|                28|                     19|                  31|\n",
            "| 19|       No|    Travel_Rarely|      488|Research & Develo...|              47|        2|           Other|            1|           400|                      1|Female|        59|             1|       5|   Research Director|              1|     Divorced|         4243|      55159|                 4|     Y|      No|               31|                1|                       3|           80|               2|               38|                    5|              2|            19|                 2|                     10|                   3|\n",
            "| 18|       No|       Non-Travel|      785|     Human Resources|              20|        3|         Medical|            1|           428|                      4|  Male|        73|             2|       5|Healthcare Repres...|              3|     Divorced|        46086|     184344|                 0|     Y|     Yes|                5|                4|                       2|           80|               4|               29|                    6|              1|            22|                16|                     21|                   9|\n",
            "| 18|       No|    Travel_Rarely|     1135|     Human Resources|              32|        4|         Medical|            1|           540|                      1|  Male|       178|             3|       2|  Research Scientist|              4|      Married|        24621|     393936|                 4|     Y|      No|               12|                3|                       1|           80|               1|                4|                    4|              4|             4|                 4|                      1|                   1|\n",
            "| 19|       No|Travel_Frequently|     1386|             Support|              36|        1| Human Resources|            1|           550|                      4|  Male|        32|             2|       5|           Developer|              4|      Married|        46125|     691875|                 6|     Y|      No|               12|                4|                       4|           80|               1|               31|                    1|              2|             8|                 1|                      6|                   2|\n",
            "+---+---------+-----------------+---------+--------------------+----------------+---------+----------------+-------------+--------------+-----------------------+------+----------+--------------+--------+--------------------+---------------+-------------+-------------+-----------+------------------+------+--------+-----------------+-----------------+------------------------+-------------+----------------+-----------------+---------------------+---------------+--------------+------------------+-----------------------+--------------------+\n",
            "only showing top 20 rows\n",
            "\n"
          ]
        }
      ]
    },
    {
      "cell_type": "code",
      "source": [
        "sdf['MaritalStatus']=='Married'"
      ],
      "metadata": {
        "colab": {
          "base_uri": "https://localhost:8080/"
        },
        "id": "GWjTc9T2CVHN",
        "outputId": "9ddb85a0-7e1f-44c7-9728-cd18b84dd18f"
      },
      "execution_count": 50,
      "outputs": [
        {
          "output_type": "execute_result",
          "data": {
            "text/plain": [
              "Column<'(MaritalStatus = Married)'>"
            ]
          },
          "metadata": {},
          "execution_count": 50
        }
      ]
    },
    {
      "cell_type": "code",
      "source": [
        "sdf.filter(    (sdf['Age']< 20) & (sdf['MaritalStatus']=='Married')      ).show()"
      ],
      "metadata": {
        "colab": {
          "base_uri": "https://localhost:8080/"
        },
        "id": "cLWYIAo4C-Qe",
        "outputId": "2a17229d-b204-40e4-bf4f-7997b7d41072"
      },
      "execution_count": 54,
      "outputs": [
        {
          "output_type": "stream",
          "name": "stdout",
          "text": [
            "+---+---------+-----------------+---------+--------------------+----------------+---------+----------------+-------------+--------------+-----------------------+------+----------+--------------+--------+--------------------+---------------+-------------+-------------+-----------+------------------+------+--------+-----------------+-----------------+------------------------+-------------+----------------+-----------------+---------------------+---------------+--------------+------------------+-----------------------+--------------------+\n",
            "|Age|Attrition|   BusinessTravel|DailyRate|          Department|DistanceFromHome|Education|  EducationField|EmployeeCount|EmployeeNumber|EnvironmentSatisfaction|Gender|HourlyRate|JobInvolvement|JobLevel|             JobRole|JobSatisfaction|MaritalStatus|MonthlyIncome|MonthlyRate|NumCompaniesWorked|Over18|OverTime|PercentSalaryHike|PerformanceRating|RelationshipSatisfaction|StandardHours|StockOptionLevel|TotalWorkingYears|TrainingTimesLastYear|WorkLifeBalance|YearsAtCompany|YearsInCurrentRole|YearsSinceLastPromotion|YearsWithCurrManager|\n",
            "+---+---------+-----------------+---------+--------------------+----------------+---------+----------------+-------------+--------------+-----------------------+------+----------+--------------+--------+--------------------+---------------+-------------+-------------+-----------+------------------+------+--------+-----------------+-----------------+------------------------+-------------+----------------+-----------------+---------------------+---------------+--------------+------------------+-----------------------+--------------------+\n",
            "| 19|      Yes|       Non-Travel|      779|            Hardware|              43|        1|         Medical|            1|             6|                      2|Female|       195|             4|       3|   Research Director|              3|      Married|        41552|    1246560|                 3|     Y|     Yes|               15|                4|                       3|           80|               1|               33|                    4|              2|            16|                 4|                     14|                   3|\n",
            "| 19|       No|       Non-Travel|      797|Research & Develo...|              22|        2| Human Resources|            1|           202|                      3|  Male|       116|             3|       4|             Manager|              3|      Married|        20919|     230109|                 7|     Y|      No|                9|                2|                       1|           80|               2|               29|                    4|              2|             8|                 7|                      6|                   5|\n",
            "| 19|      Yes|    Travel_Rarely|      368|            Software|              39|        4|         Medical|            1|           369|                      4|  Male|        72|             3|       5|           Developer|              1|      Married|        20473|     614190|                 6|     Y|     Yes|               24|                4|                       4|           80|               2|               37|                    5|              1|            32|                28|                     19|                  31|\n",
            "| 18|       No|    Travel_Rarely|     1135|     Human Resources|              32|        4|         Medical|            1|           540|                      1|  Male|       178|             3|       2|  Research Scientist|              4|      Married|        24621|     393936|                 4|     Y|      No|               12|                3|                       1|           80|               1|                4|                    4|              4|             4|                 4|                      1|                   1|\n",
            "| 19|       No|Travel_Frequently|     1386|             Support|              36|        1| Human Resources|            1|           550|                      4|  Male|        32|             2|       5|           Developer|              4|      Married|        46125|     691875|                 6|     Y|      No|               12|                4|                       4|           80|               1|               31|                    1|              2|             8|                 1|                      6|                   2|\n",
            "| 19|       No|Travel_Frequently|      996|             Support|              46|        5|Technical Degree|            1|           569|                      1|Female|       117|             1|       4|Manufacturing Dir...|              2|      Married|        34587|      69174|                 2|     Y|      No|               15|                4|                       3|           80|               3|               20|                    4|              3|            16|                10|                      8|                   7|\n",
            "| 19|       No|    Travel_Rarely|     1140|Research & Develo...|               5|        4|       Marketing|            1|           573|                      2|Female|       150|             4|       5|     Human Resources|              4|      Married|        10246|      81968|                 2|     Y|     Yes|               28|                1|                       2|           80|               2|               27|                    5|              4|             1|                 1|                      1|                   1|\n",
            "| 19|       No|Travel_Frequently|      943|            Software|              28|        4|   Life Sciences|            1|           584|                      2|Female|       106|             4|       3|             Manager|              2|      Married|        14744|     368600|                 6|     Y|     Yes|               31|                2|                       3|           80|               2|               35|                    4|              3|            29|                27|                     24|                  29|\n",
            "| 19|      Yes|       Non-Travel|      942|     Human Resources|              44|        3|Technical Degree|            1|           991|                      1|Female|        67|             1|       4|  Research Scientist|              3|      Married|         9892|     207732|                 5|     Y|     Yes|               29|                1|                       1|           80|               1|               13|                    4|              4|             3|                 3|                      1|                   3|\n",
            "| 19|      Yes|       Non-Travel|      926|Research & Develo...|              24|        5|Technical Degree|            1|          1048|                      4|Female|        72|             1|       4|     Sales Executive|              3|      Married|        34885|     348850|                 0|     Y|      No|               15|                3|                       1|           80|               2|               11|                    2|              2|            11|                 9|                      2|                   6|\n",
            "| 18|      Yes|       Non-Travel|      929|            Hardware|              16|        1|           Other|            1|          1194|                      4|Female|        55|             1|       4|             Manager|              1|      Married|         2869|      57380|                 1|     Y|      No|               20|                4|                       2|           80|               4|               14|                    1|              4|            12|                11|                     12|                   3|\n",
            "| 18|       No|       Non-Travel|     1337|               Sales|               1|        5|Technical Degree|            1|          1245|                      1|Female|       165|             2|       1|Healthcare Repres...|              4|      Married|        18620|     484120|                 1|     Y|     Yes|               26|                4|                       4|           80|               1|                6|                    1|              2|             3|                 1|                      2|                   2|\n",
            "| 18|       No|    Travel_Rarely|     1016|     Human Resources|               7|        4| Human Resources|            1|          1270|                      4|  Male|       188|             1|       3|Manufacturing Dir...|              2|      Married|         7459|     179016|                 7|     Y|      No|               41|                3|                       1|           80|               4|               33|                    3|              1|            17|                 7|                     10|                  12|\n",
            "| 19|      Yes|       Non-Travel|      381|     Human Resources|               9|        3|           Other|            1|          1306|                      4|  Male|        53|             1|       1|  Research Scientist|              1|      Married|        24321|      48642|                 8|     Y|      No|               25|                1|                       2|           80|               4|                5|                    3|              2|             1|                 1|                      1|                   1|\n",
            "| 18|      Yes|Travel_Frequently|      834|            Software|              20|        3| Human Resources|            1|          1605|                      1|  Male|        93|             2|       3|Healthcare Repres...|              2|      Married|        21317|     490291|                 6|     Y|     Yes|               18|                4|                       4|           80|               1|               16|                    3|              2|             8|                 3|                      3|                   7|\n",
            "| 18|      Yes|Travel_Frequently|      286|Research & Develo...|              17|        3|Technical Degree|            1|          1666|                      4|Female|       123|             1|       5|           Developer|              4|      Married|        25420|     711760|                 0|     Y|     Yes|                6|                2|                       4|           80|               1|                7|                    6|              2|             7|                 4|                      5|                   2|\n",
            "| 18|       No|       Non-Travel|      764|            Software|              11|        5|Technical Degree|            1|          1725|                      1|  Male|       137|             1|       2|Manufacturing Dir...|              4|      Married|        34929|     174645|                 2|     Y|      No|               26|                2|                       2|           80|               4|               24|                    1|              2|            10|                 5|                      7|                   6|\n",
            "| 18|       No|    Travel_Rarely|      789|            Software|              44|        4|           Other|            1|          1802|                      2|  Male|        73|             2|       1|Sales Representative|              1|      Married|         3005|      21035|                 6|     Y|     Yes|               41|                1|                       1|           80|               1|               35|                    2|              4|            30|                 2|                      2|                   6|\n",
            "| 18|      Yes|       Non-Travel|      987|            Hardware|              47|        5|         Medical|            1|          1819|                      4|  Male|       122|             3|       1|   Research Director|              4|      Married|         7369|     184225|                 4|     Y|     Yes|               15|                4|                       1|           80|               1|               12|                    6|              3|             5|                 4|                      4|                   3|\n",
            "| 18|      Yes|    Travel_Rarely|      845|               Sales|              30|        3| Human Resources|            1|          1969|                      3|Female|        71|             1|       2|Healthcare Repres...|              2|      Married|        50686|    1368522|                 8|     Y|      No|               45|                1|                       4|           80|               1|               38|                    2|              4|            29|                19|                     22|                   1|\n",
            "+---+---------+-----------------+---------+--------------------+----------------+---------+----------------+-------------+--------------+-----------------------+------+----------+--------------+--------+--------------------+---------------+-------------+-------------+-----------+------------------+------+--------+-----------------+-----------------+------------------------+-------------+----------------+-----------------+---------------------+---------------+--------------+------------------+-----------------------+--------------------+\n",
            "only showing top 20 rows\n",
            "\n"
          ]
        }
      ]
    },
    {
      "cell_type": "code",
      "source": [
        "sdf.groupby('MaritalStatus').mean().show()"
      ],
      "metadata": {
        "colab": {
          "base_uri": "https://localhost:8080/"
        },
        "id": "0AIzsetzDDFV",
        "outputId": "5a424b6b-53ce-4968-b71f-9fce3bdf068c"
      },
      "execution_count": 62,
      "outputs": [
        {
          "output_type": "stream",
          "name": "stdout",
          "text": [
            "+-------------+-----------------+-----------------+---------------------+------------------+------------------+-------------------+----------------------------+------------------+-------------------+------------------+--------------------+------------------+------------------+-----------------------+----------------------+----------------------+-----------------------------+------------------+---------------------+----------------------+--------------------------+--------------------+-------------------+-----------------------+----------------------------+-------------------------+\n",
            "|MaritalStatus|         avg(Age)|   avg(DailyRate)|avg(DistanceFromHome)|    avg(Education)|avg(EmployeeCount)|avg(EmployeeNumber)|avg(EnvironmentSatisfaction)|   avg(HourlyRate)|avg(JobInvolvement)|     avg(JobLevel)|avg(JobSatisfaction)|avg(MonthlyIncome)|  avg(MonthlyRate)|avg(NumCompaniesWorked)|avg(PercentSalaryHike)|avg(PerformanceRating)|avg(RelationshipSatisfaction)|avg(StandardHours)|avg(StockOptionLevel)|avg(TotalWorkingYears)|avg(TrainingTimesLastYear)|avg(WorkLifeBalance)|avg(YearsAtCompany)|avg(YearsInCurrentRole)|avg(YearsSinceLastPromotion)|avg(YearsWithCurrManager)|\n",
            "+-------------+-----------------+-----------------+---------------------+------------------+------------------+-------------------+----------------------------+------------------+-------------------+------------------+--------------------+------------------+------------------+-----------------------+----------------------+----------------------+-----------------------------+------------------+---------------------+----------------------+--------------------------+--------------------+-------------------+-----------------------+----------------------------+-------------------------+\n",
            "|      Married|39.02415922306816|796.1058090042563|    25.46513997961753|3.0052155146573947|               1.0|   24930.3192254661|           2.502787602661711| 115.1754091481326|  2.496193273784545| 3.003596906660272|  2.4882800791319464| 25928.41448354415|404121.91067681793|      4.008093039985613|    24.610994544691565|    2.4964330675618966|           2.5012289431089263|              80.0|   2.5017085306636293|    20.639350158863376|        3.4849229662490258|   2.499070799112763|  10.79203884659193|      5.928841196570949|           5.861159402913494|        5.870751154007554|\n",
            "|     Divorced|38.87831006259027|796.3674771304767|   25.579862782859895|2.9978935965334617|               1.0|  24969.22995907559|          2.4944029850746268| 115.9580524795378| 2.5071015888300434|2.9901901781415505|   2.495907558979297|26145.275517573424| 404901.2093163216|     3.9916345690900337|     24.61236157920077|     2.495365912373616|           2.4977130476649014|              80.0|    2.507763601348098|    20.546401059220027|         3.497412132883967|  2.4947640828117477| 10.849181511795859|      5.941502166586423|          5.9148411169956665|        5.971413095811267|\n",
            "|       Single|39.01155481051308|803.5439741363826|    25.57444770400527| 3.010656768245225|               1.0|  25101.69550380171|          2.4978746332994075|115.16775429563552|  2.504580015566066| 2.990121535053583|   2.477997964437526|25974.213195234388| 403112.1885290068|      3.997246003711908|    24.631563192240915|     2.496078548763695|           2.5076932287613003|              80.0|    2.501885888762498|    20.305274501586542|        3.4996108483505957|  2.5023049751541637| 10.672513919655152|      5.851763156319224|           5.839669520445429|        5.825360713644256|\n",
            "+-------------+-----------------+-----------------+---------------------+------------------+------------------+-------------------+----------------------------+------------------+-------------------+------------------+--------------------+------------------+------------------+-----------------------+----------------------+----------------------+-----------------------------+------------------+---------------------+----------------------+--------------------------+--------------------+-------------------+-----------------------+----------------------------+-------------------------+\n",
            "\n"
          ]
        }
      ]
    },
    {
      "cell_type": "code",
      "source": [
        "sdf.groupby('Department').mean().show()"
      ],
      "metadata": {
        "colab": {
          "base_uri": "https://localhost:8080/"
        },
        "id": "J4tqXR0ZEcDW",
        "outputId": "0df09d21-90d3-4c50-9d2f-fc01d3229c46"
      },
      "execution_count": 56,
      "outputs": [
        {
          "output_type": "stream",
          "name": "stdout",
          "text": [
            "+--------------------+------------------+-----------------+---------------------+------------------+------------------+-------------------+----------------------------+------------------+-------------------+------------------+--------------------+------------------+------------------+-----------------------+----------------------+----------------------+-----------------------------+------------------+---------------------+----------------------+--------------------------+--------------------+-------------------+-----------------------+----------------------------+-------------------------+\n",
            "|          Department|          avg(Age)|   avg(DailyRate)|avg(DistanceFromHome)|    avg(Education)|avg(EmployeeCount)|avg(EmployeeNumber)|avg(EnvironmentSatisfaction)|   avg(HourlyRate)|avg(JobInvolvement)|     avg(JobLevel)|avg(JobSatisfaction)|avg(MonthlyIncome)|  avg(MonthlyRate)|avg(NumCompaniesWorked)|avg(PercentSalaryHike)|avg(PerformanceRating)|avg(RelationshipSatisfaction)|avg(StandardHours)|avg(StockOptionLevel)|avg(TotalWorkingYears)|avg(TrainingTimesLastYear)|avg(WorkLifeBalance)|avg(YearsAtCompany)|avg(YearsInCurrentRole)|avg(YearsSinceLastPromotion)|avg(YearsWithCurrManager)|\n",
            "+--------------------+------------------+-----------------+---------------------+------------------+------------------+-------------------+----------------------------+------------------+-------------------+------------------+--------------------+------------------+------------------+-----------------------+----------------------+----------------------+-----------------------------+------------------+---------------------+----------------------+--------------------------+--------------------+-------------------+-----------------------+----------------------------+-------------------------+\n",
            "|               Sales| 38.85993138530699|799.9157695492725|   25.662841594700108|3.0259079616704128|               1.0| 24991.169643913403|          2.5127173784455223|115.05844079025198|  2.499704247012895|2.9953862534011595|   2.486454513190583| 26118.75346030995|403336.10682597896|      3.991245711581687|    24.529279545723412|    2.4820773689814266|            2.513663788004259|              80.0|   2.4992310422335264|    20.617768839465278|        3.4901218502306874|  2.5011238613509996| 10.844197326392997|      5.841594700106471|           5.917425766000236|        5.963918135573169|\n",
            "|Research & Develo...|39.090876307248465|794.6695516288015|   25.621108306286814| 3.019834114677245|               1.0|  25033.82846495973|           2.498858035821613|115.88856833754058|  2.524822695035461| 3.001081860800577|    2.51448491405217|25796.079456665466| 395251.1646832552|     3.9919461473734823|    24.709941098689747|     2.508955403293665|            2.513042432984734|              80.0|   2.5283086909484314|     20.29847337420363|         3.487438394037745|  2.5027046520014427| 10.681211684096647|      5.912489481908883|           5.875465801178026|        5.870657530953239|\n",
            "|            Software|  38.9962811900192|798.2216890595009|   25.404270633397314| 2.990882917466411|               1.0|  24823.36192418426|          2.5055182341650672|115.41434740882917|  2.479726487523992|3.0081573896353166|  2.4606525911708252|26026.253958733207|  408503.390475048|       4.01415547024952|    24.642634357005758|     2.497960652591171|           2.5178742802303264|              80.0|    2.491242802303263|    20.645273512476006|         3.514035508637236|  2.5027591170825336|  10.77507197696737|      5.887116122840691|          5.8522072936660265|        5.854126679462572|\n",
            "|             Support|38.864419024683926| 795.183744732089|   25.750270921131847|2.9897652016857315|               1.0|  24790.12077062011|          2.5036724864539432|115.60288982540638|  2.514509331727875|2.9883202889825404|  2.5011438892233593| 26065.20192655027| 407140.9448524985|      3.994340758579169|      24.5682119205298|    2.5017459361830223|           2.4870559903672484|              80.0|   2.5003010234798313|    20.484527393136666|        3.4994581577363033|  2.4931968693558098| 10.741240216736905|      5.900782661047562|           5.767248645394341|         5.87537627934979|\n",
            "|            Hardware|39.159750275431506|802.7153874403232|     25.3350471293916|2.9893499816378992|               1.0| 25399.859835965235|          2.4780266862529072|114.62112865711838| 2.4808422083486352| 2.993144815766924|    2.48292324641939|26028.070265638387|405188.08752601297|      4.006120700208104|    24.548537152650262|     2.499816378993757|           2.4977353409230014|              80.0|    2.497980168931326|    20.479373240298692|        3.4803525523319867|  2.4941853348023013| 10.814910025706942|       6.00881380829967|          5.8706083976006855|        5.874892887746358|\n",
            "|     Human Resources|38.863863150392014|801.3750296982656|    25.46103587550487| 3.011166547873604|               1.0| 24972.353409360894|           2.490852934188643|115.99726775956285| 2.5156806842480397| 2.981824661439772|   2.478736041815158| 26058.44547398432|404860.19529579475|     3.9964362081254454|    24.710263720598718|    2.4856260394392966|           2.4838441435020195|              80.0|   2.5055832739368022|    20.453670705630792|         3.492278450938465|   2.498218104062723| 10.769541458778807|      5.896056070325493|           5.946186742694227|        5.893799002138275|\n",
            "+--------------------+------------------+-----------------+---------------------+------------------+------------------+-------------------+----------------------------+------------------+-------------------+------------------+--------------------+------------------+------------------+-----------------------+----------------------+----------------------+-----------------------------+------------------+---------------------+----------------------+--------------------------+--------------------+-------------------+-----------------------+----------------------------+-------------------------+\n",
            "\n"
          ]
        }
      ]
    },
    {
      "cell_type": "code",
      "source": [
        "sdf.groupby('EducationField').max().show()"
      ],
      "metadata": {
        "colab": {
          "base_uri": "https://localhost:8080/"
        },
        "id": "DtWkoSANEzLG",
        "outputId": "a2d20f0c-96ff-468b-a23b-91db3e0bc19a"
      },
      "execution_count": 58,
      "outputs": [
        {
          "output_type": "stream",
          "name": "stdout",
          "text": [
            "+----------------+--------+--------------+---------------------+--------------+------------------+-------------------+----------------------------+---------------+-------------------+-------------+--------------------+------------------+----------------+-----------------------+----------------------+----------------------+-----------------------------+------------------+---------------------+----------------------+--------------------------+--------------------+-------------------+-----------------------+----------------------------+-------------------------+\n",
            "|  EducationField|max(Age)|max(DailyRate)|max(DistanceFromHome)|max(Education)|max(EmployeeCount)|max(EmployeeNumber)|max(EnvironmentSatisfaction)|max(HourlyRate)|max(JobInvolvement)|max(JobLevel)|max(JobSatisfaction)|max(MonthlyIncome)|max(MonthlyRate)|max(NumCompaniesWorked)|max(PercentSalaryHike)|max(PerformanceRating)|max(RelationshipSatisfaction)|max(StandardHours)|max(StockOptionLevel)|max(TotalWorkingYears)|max(TrainingTimesLastYear)|max(WorkLifeBalance)|max(YearsAtCompany)|max(YearsInCurrentRole)|max(YearsSinceLastPromotion)|max(YearsWithCurrManager)|\n",
            "+----------------+--------+--------------+---------------------+--------------+------------------+-------------------+----------------------------+---------------+-------------------+-------------+--------------------+------------------+----------------+-----------------------+----------------------+----------------------+-----------------------------+------------------+---------------------+----------------------+--------------------------+--------------------+-------------------+-----------------------+----------------------------+-------------------------+\n",
            "|Technical Degree|      60|          1500|                   50|             5|                 1|              49998|                           4|            200|                  4|            5|                   4|             50999|         1524750|                      8|                    49|                     4|                            4|                80|                    4|                    40|                         6|                   4|                 40|                     40|                          39|                       38|\n",
            "|           Other|      60|          1500|                   50|             5|                 1|              49999|                           4|            200|                  4|            5|                   4|             50993|         1528290|                      8|                    49|                     4|                            4|                80|                    4|                    40|                         6|                   4|                 40|                     39|                          38|                       37|\n",
            "|       Marketing|      60|          1500|                   50|             5|                 1|              49994|                           4|            200|                  4|            5|                   4|             50996|         1526790|                      8|                    49|                     4|                            4|                80|                    4|                    40|                         6|                   4|                 40|                     37|                          40|                       40|\n",
            "|         Medical|      60|          1500|                   50|             5|                 1|              49997|                           4|            200|                  4|            5|                   4|             50999|         1525560|                      8|                    49|                     4|                            4|                80|                    4|                    40|                         6|                   4|                 40|                     39|                          38|                       38|\n",
            "|   Life Sciences|      60|          1500|                   50|             5|                 1|              50000|                           4|            200|                  4|            5|                   4|             50999|         1524270|                      8|                    49|                     4|                            4|                80|                    4|                    40|                         6|                   4|                 40|                     39|                          38|                       40|\n",
            "| Human Resources|      60|          1500|                   50|             5|                 1|              49985|                           4|            200|                  4|            5|                   4|             50983|         1521300|                      8|                    49|                     4|                            4|                80|                    4|                    40|                         6|                   4|                 40|                     37|                          39|                       37|\n",
            "+----------------+--------+--------------+---------------------+--------------+------------------+-------------------+----------------------------+---------------+-------------------+-------------+--------------------+------------------+----------------+-----------------------+----------------------+----------------------+-----------------------------+------------------+---------------------+----------------------+--------------------------+--------------------+-------------------+-----------------------+----------------------------+-------------------------+\n",
            "\n"
          ]
        }
      ]
    },
    {
      "cell_type": "code",
      "source": [
        "sdf.orderBy(sdf['Age'].desc()).show()"
      ],
      "metadata": {
        "colab": {
          "base_uri": "https://localhost:8080/"
        },
        "id": "eg9hEp3hFDPW",
        "outputId": "2acc1aea-6533-40a9-9c67-ff92a2b7c546"
      },
      "execution_count": 65,
      "outputs": [
        {
          "output_type": "stream",
          "name": "stdout",
          "text": [
            "+---+---------+-----------------+---------+--------------------+----------------+---------+----------------+-------------+--------------+-----------------------+------+----------+--------------+--------+--------------------+---------------+-------------+-------------+-----------+------------------+------+--------+-----------------+-----------------+------------------------+-------------+----------------+-----------------+---------------------+---------------+--------------+------------------+-----------------------+--------------------+\n",
            "|Age|Attrition|   BusinessTravel|DailyRate|          Department|DistanceFromHome|Education|  EducationField|EmployeeCount|EmployeeNumber|EnvironmentSatisfaction|Gender|HourlyRate|JobInvolvement|JobLevel|             JobRole|JobSatisfaction|MaritalStatus|MonthlyIncome|MonthlyRate|NumCompaniesWorked|Over18|OverTime|PercentSalaryHike|PerformanceRating|RelationshipSatisfaction|StandardHours|StockOptionLevel|TotalWorkingYears|TrainingTimesLastYear|WorkLifeBalance|YearsAtCompany|YearsInCurrentRole|YearsSinceLastPromotion|YearsWithCurrManager|\n",
            "+---+---------+-----------------+---------+--------------------+----------------+---------+----------------+-------------+--------------+-----------------------+------+----------+--------------+--------+--------------------+---------------+-------------+-------------+-----------+------------------+------+--------+-----------------+-----------------+------------------------+-------------+----------------+-----------------+---------------------+---------------+--------------+------------------+-----------------------+--------------------+\n",
            "| 60|       No|       Non-Travel|      787|             Support|              15|        5|         Medical|            1|         39015|                      2|  Male|        95|             2|       1|Laboratory Techni...|              3|     Divorced|         3090|      15450|                 4|     Y|     Yes|               33|                1|                       1|           80|               3|               26|                    2|              1|             7|                 2|                      2|                   7|\n",
            "| 60|       No|       Non-Travel|      430|            Hardware|               5|        3|   Life Sciences|            1|           715|                      4|  Male|       175|             2|       5|  Research Scientist|              4|     Divorced|        20481|     389139|                 2|     Y|     Yes|               15|                4|                       1|           80|               2|               16|                    4|              3|             6|                 5|                      2|                   2|\n",
            "| 60|       No|       Non-Travel|      308|               Sales|              26|        2|Technical Degree|            1|         39018|                      2|  Male|        56|             2|       3|             Manager|              4|     Divorced|        23021|     690630|                 4|     Y|     Yes|               13|                3|                       1|           80|               1|               27|                    3|              4|            27|                21|                     10|                  25|\n",
            "| 60|       No|Travel_Frequently|      486|            Software|              38|        3|           Other|            1|          1649|                      3|  Male|        91|             1|       3|   Research Director|              4|     Divorced|        41890|      83780|                 3|     Y|      No|               18|                2|                       1|           80|               3|               23|                    4|              3|             2|                 1|                      1|                   2|\n",
            "| 60|      Yes|    Travel_Rarely|      287|            Hardware|              46|        4|           Other|            1|         39047|                      3|Female|       144|             4|       1|     Sales Executive|              4|       Single|        43830|     701280|                 8|     Y|     Yes|               14|                3|                       1|           80|               3|               20|                    6|              2|             7|                 7|                      4|                   3|\n",
            "| 60|      Yes|Travel_Frequently|     1118|             Support|              12|        4| Human Resources|            1|           838|                      1|  Male|        94|             2|       5|Sales Representative|              1|       Single|        12547|      62735|                 6|     Y|     Yes|                9|                1|                       2|           80|               4|                1|                    2|              2|             1|                 1|                      1|                   1|\n",
            "| 60|       No|Travel_Frequently|     1078|             Support|              12|        3| Human Resources|            1|         38666|                      1|Female|        97|             3|       5|     Sales Executive|              3|     Divorced|        16079|      96474|                 5|     Y|     Yes|                0|                1|                       1|           80|               2|               17|                    3|              1|             1|                 1|                      1|                   1|\n",
            "| 60|       No|       Non-Travel|     1177|Research & Develo...|              16|        3| Human Resources|            1|           250|                      1|  Male|       169|             2|       2|Manufacturing Dir...|              1|      Married|        24142|     217278|                 4|     Y|      No|               34|                3|                       1|           80|               4|               33|                    6|              2|            26|                13|                     21|                  22|\n",
            "| 60|       No|    Travel_Rarely|      158|             Support|              13|        4|           Other|            1|         39060|                      3|  Male|        65|             1|       2|Manufacturing Dir...|              1|     Divorced|        12855|     257100|                 2|     Y|      No|                2|                2|                       4|           80|               1|               17|                    4|              4|             1|                 1|                      1|                   1|\n",
            "| 60|      Yes|       Non-Travel|      133|               Sales|              42|        1|         Medical|            1|           877|                      1|  Male|       108|             1|       1|Healthcare Repres...|              4|     Divorced|        49907|     349349|                 2|     Y|     Yes|               29|                4|                       1|           80|               3|               28|                    2|              3|            23|                11|                     20|                  13|\n",
            "| 60|       No|       Non-Travel|     1183|               Sales|              19|        1|           Other|            1|         38740|                      1|  Male|       101|             2|       2|Laboratory Techni...|              4|      Married|        31161|      31161|                 7|     Y|     Yes|               17|                2|                       3|           80|               3|               10|                    4|              4|             4|                 4|                      4|                   4|\n",
            "| 60|       No|    Travel_Rarely|      533|     Human Resources|              10|        4| Human Resources|            1|           114|                      4|  Male|       163|             4|       4|     Sales Executive|              4|       Single|         7258|     217740|                 7|     Y|     Yes|               22|                4|                       1|           80|               3|               22|                    6|              4|            21|                14|                     21|                  10|\n",
            "| 60|       No|       Non-Travel|     1424|            Hardware|              15|        2|           Other|            1|         39074|                      4|  Male|       169|             3|       4|Manufacturing Dir...|              1|       Single|        44415|     532980|                 7|     Y|      No|               15|                1|                       1|           80|               1|                9|                    1|              1|             3|                 2|                      1|                   3|\n",
            "| 60|       No|    Travel_Rarely|     1473|Research & Develo...|              36|        1|   Life Sciences|            1|           910|                      1|  Male|        51|             3|       3|             Manager|              1|     Divorced|        41882|     167528|                 0|     Y|      No|               22|                4|                       3|           80|               1|                9|                    5|              3|             3|                 1|                      3|                   3|\n",
            "| 60|      Yes|Travel_Frequently|     1033|            Software|              15|        4|         Medical|            1|         38828|                      2|  Male|       166|             1|       3|             Manager|              1|       Single|        31909|     127636|                 4|     Y|     Yes|               13|                4|                       4|           80|               2|               28|                    2|              4|             7|                 4|                      7|                   3|\n",
            "| 60|      Yes|    Travel_Rarely|     1277|Research & Develo...|              16|        5|   Life Sciences|            1|            42|                      4|  Male|       136|             3|       3|Sales Representative|              4|       Single|        21259|     531475|                 7|     Y|      No|               18|                4|                       3|           80|               4|               34|                    2|              2|             7|                 4|                      7|                   4|\n",
            "| 60|      Yes|       Non-Travel|     1053|Research & Develo...|              26|        5|   Life Sciences|            1|         39100|                      4|Female|       156|             4|       1|   Research Director|              2|     Divorced|        42841|    1028184|                 5|     Y|      No|               16|                4|                       1|           80|               4|               31|                    6|              2|            13|                 5|                      1|                   1|\n",
            "| 60|       No|       Non-Travel|      383|     Human Resources|              30|        3| Human Resources|            1|           934|                      1|Female|        86|             2|       1|Laboratory Techni...|              1|     Divorced|        32010|     384120|                 8|     Y|     Yes|                8|                2|                       1|           80|               4|                4|                    3|              3|             1|                 1|                      1|                   1|\n",
            "| 60|       No|Travel_Frequently|      190|Research & Develo...|              26|        4|Technical Degree|            1|         38859|                      1|Female|       187|             1|       4|Laboratory Techni...|              2|      Married|        15939|     302841|                 0|     Y|      No|               32|                2|                       1|           80|               3|               32|                    5|              4|            30|                16|                      5|                   9|\n",
            "| 60|       No|    Travel_Rarely|     1348|               Sales|              32|        3|Technical Degree|            1|            98|                      1|  Male|       132|             3|       4|   Research Director|              1|     Divorced|        14216|     241672|                 2|     Y|     Yes|               42|                3|                       4|           80|               4|               39|                    5|              1|            22|                22|                     11|                  15|\n",
            "+---+---------+-----------------+---------+--------------------+----------------+---------+----------------+-------------+--------------+-----------------------+------+----------+--------------+--------+--------------------+---------------+-------------+-------------+-----------+------------------+------+--------+-----------------+-----------------+------------------------+-------------+----------------+-----------------+---------------------+---------------+--------------+------------------+-----------------------+--------------------+\n",
            "only showing top 20 rows\n",
            "\n"
          ]
        }
      ]
    },
    {
      "cell_type": "code",
      "source": [
        "sdf.dropna().show()"
      ],
      "metadata": {
        "colab": {
          "base_uri": "https://localhost:8080/"
        },
        "id": "CYVxws-GGDrX",
        "outputId": "d39c12ac-2e52-4d36-e044-c8807ca0a54c"
      },
      "execution_count": 66,
      "outputs": [
        {
          "output_type": "stream",
          "name": "stdout",
          "text": [
            "+---+---------+-----------------+---------+--------------------+----------------+---------+----------------+-------------+--------------+-----------------------+------+----------+--------------+--------+--------------------+---------------+-------------+-------------+-----------+------------------+------+--------+-----------------+-----------------+------------------------+-------------+----------------+-----------------+---------------------+---------------+--------------+------------------+-----------------------+--------------------+\n",
            "|Age|Attrition|   BusinessTravel|DailyRate|          Department|DistanceFromHome|Education|  EducationField|EmployeeCount|EmployeeNumber|EnvironmentSatisfaction|Gender|HourlyRate|JobInvolvement|JobLevel|             JobRole|JobSatisfaction|MaritalStatus|MonthlyIncome|MonthlyRate|NumCompaniesWorked|Over18|OverTime|PercentSalaryHike|PerformanceRating|RelationshipSatisfaction|StandardHours|StockOptionLevel|TotalWorkingYears|TrainingTimesLastYear|WorkLifeBalance|YearsAtCompany|YearsInCurrentRole|YearsSinceLastPromotion|YearsWithCurrManager|\n",
            "+---+---------+-----------------+---------+--------------------+----------------+---------+----------------+-------------+--------------+-----------------------+------+----------+--------------+--------+--------------------+---------------+-------------+-------------+-----------+------------------+------+--------+-----------------+-----------------+------------------------+-------------+----------------+-----------------+---------------------+---------------+--------------+------------------+-----------------------+--------------------+\n",
            "| 31|       No|       Non-Travel|      158|            Software|               7|        3|         Medical|            1|             1|                      3|  Male|        42|             2|       3|           Developer|              1|      Married|        42682|     298774|                 2|     Y|      No|               20|                4|                       1|           80|               2|               15|                    1|              2|            12|                 4|                     10|                  11|\n",
            "| 38|       No|    Travel_Rarely|      985|     Human Resources|              33|        5|   Life Sciences|            1|             2|                      1|Female|        66|             2|       4|Healthcare Repres...|              3|       Single|        45252|      45252|                 8|     Y|      No|                2|                1|                       3|           80|               4|                5|                    4|              3|             1|                 1|                      1|                   1|\n",
            "| 59|      Yes|       Non-Travel|     1273|               Sales|               5|        2|Technical Degree|            1|             3|                      4|Female|        96|             1|       3|Manufacturing Dir...|              2|      Married|        46149|     507639|                 7|     Y|     Yes|               39|                3|                       2|           80|               2|                9|                    5|              1|             6|                 6|                      4|                   3|\n",
            "| 52|      Yes|    Travel_Rarely|      480|             Support|               2|        5|       Marketing|            1|             4|                      4|Female|        71|             2|       4|     Human Resources|              1|      Married|        27150|      27150|                 4|     Y|      No|               16|                3|                       2|           80|               2|               22|                    4|              4|            10|                 9|                      5|                   6|\n",
            "| 32|       No|       Non-Travel|      543|     Human Resources|               7|        5| Human Resources|            1|             5|                      2|  Male|       122|             3|       3|             Manager|              2|     Divorced|        15894|      47682|                 6|     Y|     Yes|               42|                3|                       4|           80|               2|               30|                    3|              4|            29|                27|                      9|                   7|\n",
            "| 19|      Yes|       Non-Travel|      779|            Hardware|              43|        1|         Medical|            1|             6|                      2|Female|       195|             4|       3|   Research Director|              3|      Married|        41552|    1246560|                 3|     Y|     Yes|               15|                4|                       3|           80|               1|               33|                    4|              2|            16|                 4|                     14|                   3|\n",
            "| 42|      Yes|       Non-Travel|      934|             Support|              26|        4| Human Resources|            1|             7|                      2|Female|        80|             3|       5|     Sales Executive|              4|     Divorced|         5303|     148484|                 3|     Y|      No|               45|                4|                       1|           80|               1|                4|                    3|              4|             2|                 1|                      1|                   2|\n",
            "| 30|       No|    Travel_Rarely|      380|             Support|              19|        3|       Marketing|            1|             8|                      4|  Male|       165|             1|       4|     Human Resources|              4|       Single|        28555|     571100|                 2|     Y|     Yes|               35|                3|                       2|           80|               1|                2|                    2|              2|             2|                 2|                      2|                   2|\n",
            "| 41|       No|Travel_Frequently|     1464|            Software|              16|        1|   Life Sciences|            1|             9|                      3|  Male|       134|             1|       2|             Manager|              4|     Divorced|         3241|      87507|                 7|     Y|      No|                1|                1|                       3|           80|               2|                8|                    1|              2|             2|                 1|                      2|                   2|\n",
            "| 45|       No|Travel_Frequently|     1020|     Human Resources|              17|        5|   Life Sciences|            1|            10|                      4|Female|       137|             2|       4|             Manager|              2|      Married|         4323|     116721|                 4|     Y|     Yes|               32|                1|                       3|           80|               4|                6|                    4|              4|             5|                 3|                      4|                   1|\n",
            "| 36|       No|    Travel_Rarely|      987|               Sales|              33|        4|           Other|            1|            11|                      3|  Male|       159|             3|       1|     Human Resources|              3|      Married|        10587|      95283|                 0|     Y|     Yes|               47|                4|                       2|           80|               1|               38|                    3|              4|            24|                19|                      8|                   6|\n",
            "| 23|       No|Travel_Frequently|      135|     Human Resources|              20|        4|   Life Sciences|            1|            12|                      2|Female|        51|             2|       2|Manufacturing Dir...|              2|     Divorced|         7446|     141474|                 8|     Y|     Yes|               44|                1|                       2|           80|               4|               16|                    5|              3|             8|                 6|                      7|                   6|\n",
            "| 24|      Yes|       Non-Travel|     1086|             Support|              15|        1|       Marketing|            1|            13|                      4|Female|       189|             3|       1|Manufacturing Dir...|              4|      Married|        34153|     648907|                 7|     Y|      No|               17|                1|                       3|           80|               1|               30|                    2|              2|            15|                 3|                      8|                   4|\n",
            "| 39|      Yes|       Non-Travel|      673|Research & Develo...|              16|        2| Human Resources|            1|            14|                      2|Female|        69|             4|       2|     Sales Executive|              2|      Married|        47844|     382752|                 1|     Y|      No|               47|                1|                       4|           80|               1|               14|                    4|              2|            13|                 9|                     11|                   5|\n",
            "| 42|      Yes|    Travel_Rarely|      145|     Human Resources|              31|        3|   Life Sciences|            1|            15|                      3|  Male|       127|             3|       1|           Developer|              4|      Married|        21432|      21432|                 4|     Y|     Yes|               48|                2|                       1|           80|               4|                2|                    6|              2|             1|                 1|                      1|                   1|\n",
            "| 44|      Yes|Travel_Frequently|      717|            Software|              10|        2| Human Resources|            1|            16|                      3|Female|       151|             1|       5|Sales Representative|              4|     Divorced|        50393|    1058253|                 6|     Y|     Yes|               42|                2|                       1|           80|               2|               27|                    3|              1|            27|                13|                     18|                  18|\n",
            "| 50|      Yes|Travel_Frequently|      460|Research & Develo...|              10|        4| Human Resources|            1|            17|                      4|  Male|       181|             2|       5|             Manager|              3|     Divorced|        22090|      66270|                 7|     Y|      No|               19|                2|                       1|           80|               2|               14|                    3|              3|             5|                 3|                      4|                   5|\n",
            "| 42|       No|    Travel_Rarely|     1422|            Software|              26|        4|   Life Sciences|            1|            18|                      4|Female|        92|             4|       5|           Developer|              3|       Single|        47968|      47968|                 3|     Y|     Yes|               41|                4|                       2|           80|               1|                5|                    4|              3|             4|                 1|                      2|                   3|\n",
            "| 49|       No|Travel_Frequently|      129|Research & Develo...|              41|        1|Technical Degree|            1|            19|                      3|Female|        81|             2|       1|             Manager|              1|     Divorced|        24665|      98660|                 0|     Y|      No|               17|                2|                       3|           80|               4|                7|                    1|              3|             6|                 4|                      3|                   4|\n",
            "| 58|      Yes|    Travel_Rarely|      637|             Support|               5|        4|Technical Degree|            1|            20|                      2|Female|        66|             3|       5|             Manager|              2|      Married|        41084|     903848|                 7|     Y|      No|               46|                1|                       3|           80|               3|               39|                    6|              4|            17|                 3|                     13|                   4|\n",
            "+---+---------+-----------------+---------+--------------------+----------------+---------+----------------+-------------+--------------+-----------------------+------+----------+--------------+--------+--------------------+---------------+-------------+-------------+-----------+------------------+------+--------+-----------------+-----------------+------------------------+-------------+----------------+-----------------+---------------------+---------------+--------------+------------------+-----------------------+--------------------+\n",
            "only showing top 20 rows\n",
            "\n"
          ]
        }
      ]
    },
    {
      "cell_type": "code",
      "source": [],
      "metadata": {
        "id": "BBHHcb_KGU1W"
      },
      "execution_count": null,
      "outputs": []
    }
  ]
}