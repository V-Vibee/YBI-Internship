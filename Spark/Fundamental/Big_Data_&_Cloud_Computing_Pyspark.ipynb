{
  "nbformat": 4,
  "nbformat_minor": 0,
  "metadata": {
    "colab": {
      "provenance": []
    },
    "kernelspec": {
      "name": "python3",
      "display_name": "Python 3"
    },
    "language_info": {
      "name": "python"
    }
  },
  "cells": [
    {
      "cell_type": "code",
      "execution_count": 1,
      "metadata": {
        "id": "ta0k3AlgqeQV"
      },
      "outputs": [],
      "source": [
        "import pandas as pd\n",
        "import numpy as np\n",
        "import matplotlib.pyplot as plt"
      ]
    },
    {
      "cell_type": "code",
      "source": [
        "! pip install pyspark"
      ],
      "metadata": {
        "id": "oEFOzI63qsYu"
      },
      "execution_count": null,
      "outputs": []
    },
    {
      "cell_type": "markdown",
      "source": [
        "**Create a Spark session**"
      ],
      "metadata": {
        "id": "7fv0g6-OrSOW"
      }
    },
    {
      "cell_type": "code",
      "source": [
        "import pyspark"
      ],
      "metadata": {
        "id": "4U4yD9zbqxwW"
      },
      "execution_count": 3,
      "outputs": []
    },
    {
      "cell_type": "code",
      "source": [
        "from pyspark.sql import SparkSession"
      ],
      "metadata": {
        "id": "N6tKSf-NrfUB"
      },
      "execution_count": 4,
      "outputs": []
    },
    {
      "cell_type": "code",
      "source": [
        "spark= SparkSession.builder.getOrCreate()"
      ],
      "metadata": {
        "id": "9niu_fWkrl4r"
      },
      "execution_count": 5,
      "outputs": []
    },
    {
      "cell_type": "code",
      "source": [
        "spark"
      ],
      "metadata": {
        "colab": {
          "base_uri": "https://localhost:8080/",
          "height": 219
        },
        "id": "-9OW1zLLr23p",
        "outputId": "1af25410-7764-471b-e3d2-36f1d8da80da"
      },
      "execution_count": 6,
      "outputs": [
        {
          "output_type": "execute_result",
          "data": {
            "text/plain": [
              "<pyspark.sql.session.SparkSession at 0x7894f11040d0>"
            ],
            "text/html": [
              "\n",
              "            <div>\n",
              "                <p><b>SparkSession - in-memory</b></p>\n",
              "                \n",
              "        <div>\n",
              "            <p><b>SparkContext</b></p>\n",
              "\n",
              "            <p><a href=\"http://1df578d62e90:4040\">Spark UI</a></p>\n",
              "\n",
              "            <dl>\n",
              "              <dt>Version</dt>\n",
              "                <dd><code>v3.5.1</code></dd>\n",
              "              <dt>Master</dt>\n",
              "                <dd><code>local[*]</code></dd>\n",
              "              <dt>AppName</dt>\n",
              "                <dd><code>pyspark-shell</code></dd>\n",
              "            </dl>\n",
              "        </div>\n",
              "        \n",
              "            </div>\n",
              "        "
            ]
          },
          "metadata": {},
          "execution_count": 6
        }
      ]
    },
    {
      "cell_type": "code",
      "source": [
        "sdf= spark.read.csv('/content/HR50k.csv', header= True, inferSchema=True)"
      ],
      "metadata": {
        "id": "vgO4G2YLr-A0"
      },
      "execution_count": 9,
      "outputs": []
    },
    {
      "cell_type": "code",
      "source": [
        "sdf.show()"
      ],
      "metadata": {
        "colab": {
          "base_uri": "https://localhost:8080/"
        },
        "id": "iBcKX5XKuSlz",
        "outputId": "4d4ded63-283b-43c4-8439-93253b974c15"
      },
      "execution_count": 10,
      "outputs": [
        {
          "output_type": "stream",
          "name": "stdout",
          "text": [
            "+---+---------+-----------------+---------+--------------------+----------------+---------+----------------+-------------+--------------+-----------------------+------+----------+--------------+--------+--------------------+---------------+-------------+-------------+-----------+------------------+------+--------+-----------------+-----------------+------------------------+-------------+----------------+-----------------+---------------------+---------------+--------------+------------------+-----------------------+--------------------+\n",
            "|Age|Attrition|   BusinessTravel|DailyRate|          Department|DistanceFromHome|Education|  EducationField|EmployeeCount|EmployeeNumber|EnvironmentSatisfaction|Gender|HourlyRate|JobInvolvement|JobLevel|             JobRole|JobSatisfaction|MaritalStatus|MonthlyIncome|MonthlyRate|NumCompaniesWorked|Over18|OverTime|PercentSalaryHike|PerformanceRating|RelationshipSatisfaction|StandardHours|StockOptionLevel|TotalWorkingYears|TrainingTimesLastYear|WorkLifeBalance|YearsAtCompany|YearsInCurrentRole|YearsSinceLastPromotion|YearsWithCurrManager|\n",
            "+---+---------+-----------------+---------+--------------------+----------------+---------+----------------+-------------+--------------+-----------------------+------+----------+--------------+--------+--------------------+---------------+-------------+-------------+-----------+------------------+------+--------+-----------------+-----------------+------------------------+-------------+----------------+-----------------+---------------------+---------------+--------------+------------------+-----------------------+--------------------+\n",
            "| 31|       No|       Non-Travel|      158|            Software|               7|        3|         Medical|            1|             1|                      3|  Male|        42|             2|       3|           Developer|              1|      Married|        42682|     298774|                 2|     Y|      No|               20|                4|                       1|           80|               2|               15|                    1|              2|            12|                 4|                     10|                  11|\n",
            "| 38|       No|    Travel_Rarely|      985|     Human Resources|              33|        5|   Life Sciences|            1|             2|                      1|Female|        66|             2|       4|Healthcare Repres...|              3|       Single|        45252|      45252|                 8|     Y|      No|                2|                1|                       3|           80|               4|                5|                    4|              3|             1|                 1|                      1|                   1|\n",
            "| 59|      Yes|       Non-Travel|     1273|               Sales|               5|        2|Technical Degree|            1|             3|                      4|Female|        96|             1|       3|Manufacturing Dir...|              2|      Married|        46149|     507639|                 7|     Y|     Yes|               39|                3|                       2|           80|               2|                9|                    5|              1|             6|                 6|                      4|                   3|\n",
            "| 52|      Yes|    Travel_Rarely|      480|             Support|               2|        5|       Marketing|            1|             4|                      4|Female|        71|             2|       4|     Human Resources|              1|      Married|        27150|      27150|                 4|     Y|      No|               16|                3|                       2|           80|               2|               22|                    4|              4|            10|                 9|                      5|                   6|\n",
            "| 32|       No|       Non-Travel|      543|     Human Resources|               7|        5| Human Resources|            1|             5|                      2|  Male|       122|             3|       3|             Manager|              2|     Divorced|        15894|      47682|                 6|     Y|     Yes|               42|                3|                       4|           80|               2|               30|                    3|              4|            29|                27|                      9|                   7|\n",
            "| 19|      Yes|       Non-Travel|      779|            Hardware|              43|        1|         Medical|            1|             6|                      2|Female|       195|             4|       3|   Research Director|              3|      Married|        41552|    1246560|                 3|     Y|     Yes|               15|                4|                       3|           80|               1|               33|                    4|              2|            16|                 4|                     14|                   3|\n",
            "| 42|      Yes|       Non-Travel|      934|             Support|              26|        4| Human Resources|            1|             7|                      2|Female|        80|             3|       5|     Sales Executive|              4|     Divorced|         5303|     148484|                 3|     Y|      No|               45|                4|                       1|           80|               1|                4|                    3|              4|             2|                 1|                      1|                   2|\n",
            "| 30|       No|    Travel_Rarely|      380|             Support|              19|        3|       Marketing|            1|             8|                      4|  Male|       165|             1|       4|     Human Resources|              4|       Single|        28555|     571100|                 2|     Y|     Yes|               35|                3|                       2|           80|               1|                2|                    2|              2|             2|                 2|                      2|                   2|\n",
            "| 41|       No|Travel_Frequently|     1464|            Software|              16|        1|   Life Sciences|            1|             9|                      3|  Male|       134|             1|       2|             Manager|              4|     Divorced|         3241|      87507|                 7|     Y|      No|                1|                1|                       3|           80|               2|                8|                    1|              2|             2|                 1|                      2|                   2|\n",
            "| 45|       No|Travel_Frequently|     1020|     Human Resources|              17|        5|   Life Sciences|            1|            10|                      4|Female|       137|             2|       4|             Manager|              2|      Married|         4323|     116721|                 4|     Y|     Yes|               32|                1|                       3|           80|               4|                6|                    4|              4|             5|                 3|                      4|                   1|\n",
            "| 36|       No|    Travel_Rarely|      987|               Sales|              33|        4|           Other|            1|            11|                      3|  Male|       159|             3|       1|     Human Resources|              3|      Married|        10587|      95283|                 0|     Y|     Yes|               47|                4|                       2|           80|               1|               38|                    3|              4|            24|                19|                      8|                   6|\n",
            "| 23|       No|Travel_Frequently|      135|     Human Resources|              20|        4|   Life Sciences|            1|            12|                      2|Female|        51|             2|       2|Manufacturing Dir...|              2|     Divorced|         7446|     141474|                 8|     Y|     Yes|               44|                1|                       2|           80|               4|               16|                    5|              3|             8|                 6|                      7|                   6|\n",
            "| 24|      Yes|       Non-Travel|     1086|             Support|              15|        1|       Marketing|            1|            13|                      4|Female|       189|             3|       1|Manufacturing Dir...|              4|      Married|        34153|     648907|                 7|     Y|      No|               17|                1|                       3|           80|               1|               30|                    2|              2|            15|                 3|                      8|                   4|\n",
            "| 39|      Yes|       Non-Travel|      673|Research & Develo...|              16|        2| Human Resources|            1|            14|                      2|Female|        69|             4|       2|     Sales Executive|              2|      Married|        47844|     382752|                 1|     Y|      No|               47|                1|                       4|           80|               1|               14|                    4|              2|            13|                 9|                     11|                   5|\n",
            "| 42|      Yes|    Travel_Rarely|      145|     Human Resources|              31|        3|   Life Sciences|            1|            15|                      3|  Male|       127|             3|       1|           Developer|              4|      Married|        21432|      21432|                 4|     Y|     Yes|               48|                2|                       1|           80|               4|                2|                    6|              2|             1|                 1|                      1|                   1|\n",
            "| 44|      Yes|Travel_Frequently|      717|            Software|              10|        2| Human Resources|            1|            16|                      3|Female|       151|             1|       5|Sales Representative|              4|     Divorced|        50393|    1058253|                 6|     Y|     Yes|               42|                2|                       1|           80|               2|               27|                    3|              1|            27|                13|                     18|                  18|\n",
            "| 50|      Yes|Travel_Frequently|      460|Research & Develo...|              10|        4| Human Resources|            1|            17|                      4|  Male|       181|             2|       5|             Manager|              3|     Divorced|        22090|      66270|                 7|     Y|      No|               19|                2|                       1|           80|               2|               14|                    3|              3|             5|                 3|                      4|                   5|\n",
            "| 42|       No|    Travel_Rarely|     1422|            Software|              26|        4|   Life Sciences|            1|            18|                      4|Female|        92|             4|       5|           Developer|              3|       Single|        47968|      47968|                 3|     Y|     Yes|               41|                4|                       2|           80|               1|                5|                    4|              3|             4|                 1|                      2|                   3|\n",
            "| 49|       No|Travel_Frequently|      129|Research & Develo...|              41|        1|Technical Degree|            1|            19|                      3|Female|        81|             2|       1|             Manager|              1|     Divorced|        24665|      98660|                 0|     Y|      No|               17|                2|                       3|           80|               4|                7|                    1|              3|             6|                 4|                      3|                   4|\n",
            "| 58|      Yes|    Travel_Rarely|      637|             Support|               5|        4|Technical Degree|            1|            20|                      2|Female|        66|             3|       5|             Manager|              2|      Married|        41084|     903848|                 7|     Y|      No|               46|                1|                       3|           80|               3|               39|                    6|              4|            17|                 3|                     13|                   4|\n",
            "+---+---------+-----------------+---------+--------------------+----------------+---------+----------------+-------------+--------------+-----------------------+------+----------+--------------+--------+--------------------+---------------+-------------+-------------+-----------+------------------+------+--------+-----------------+-----------------+------------------------+-------------+----------------+-----------------+---------------------+---------------+--------------+------------------+-----------------------+--------------------+\n",
            "only showing top 20 rows\n",
            "\n"
          ]
        }
      ]
    },
    {
      "cell_type": "code",
      "source": [
        "sdf.dtypes"
      ],
      "metadata": {
        "colab": {
          "base_uri": "https://localhost:8080/"
        },
        "id": "jpimRgRbuVdk",
        "outputId": "5d734c79-4d07-45dd-a086-0536747f6a52"
      },
      "execution_count": 12,
      "outputs": [
        {
          "output_type": "execute_result",
          "data": {
            "text/plain": [
              "[('Age', 'int'),\n",
              " ('Attrition', 'string'),\n",
              " ('BusinessTravel', 'string'),\n",
              " ('DailyRate', 'int'),\n",
              " ('Department', 'string'),\n",
              " ('DistanceFromHome', 'int'),\n",
              " ('Education', 'int'),\n",
              " ('EducationField', 'string'),\n",
              " ('EmployeeCount', 'int'),\n",
              " ('EmployeeNumber', 'int'),\n",
              " ('EnvironmentSatisfaction', 'int'),\n",
              " ('Gender', 'string'),\n",
              " ('HourlyRate', 'int'),\n",
              " ('JobInvolvement', 'int'),\n",
              " ('JobLevel', 'int'),\n",
              " ('JobRole', 'string'),\n",
              " ('JobSatisfaction', 'int'),\n",
              " ('MaritalStatus', 'string'),\n",
              " ('MonthlyIncome', 'int'),\n",
              " ('MonthlyRate', 'int'),\n",
              " ('NumCompaniesWorked', 'int'),\n",
              " ('Over18', 'string'),\n",
              " ('OverTime', 'string'),\n",
              " ('PercentSalaryHike', 'int'),\n",
              " ('PerformanceRating', 'int'),\n",
              " ('RelationshipSatisfaction', 'int'),\n",
              " ('StandardHours', 'int'),\n",
              " ('StockOptionLevel', 'int'),\n",
              " ('TotalWorkingYears', 'int'),\n",
              " ('TrainingTimesLastYear', 'int'),\n",
              " ('WorkLifeBalance', 'int'),\n",
              " ('YearsAtCompany', 'int'),\n",
              " ('YearsInCurrentRole', 'int'),\n",
              " ('YearsSinceLastPromotion', 'int'),\n",
              " ('YearsWithCurrManager', 'int')]"
            ]
          },
          "metadata": {},
          "execution_count": 12
        }
      ]
    },
    {
      "cell_type": "code",
      "source": [
        "sdf.printSchema()"
      ],
      "metadata": {
        "colab": {
          "base_uri": "https://localhost:8080/"
        },
        "id": "6P9wX28CuytI",
        "outputId": "45017374-3196-4fc0-a0cb-4fef3e9c2ffd"
      },
      "execution_count": 13,
      "outputs": [
        {
          "output_type": "stream",
          "name": "stdout",
          "text": [
            "root\n",
            " |-- Age: integer (nullable = true)\n",
            " |-- Attrition: string (nullable = true)\n",
            " |-- BusinessTravel: string (nullable = true)\n",
            " |-- DailyRate: integer (nullable = true)\n",
            " |-- Department: string (nullable = true)\n",
            " |-- DistanceFromHome: integer (nullable = true)\n",
            " |-- Education: integer (nullable = true)\n",
            " |-- EducationField: string (nullable = true)\n",
            " |-- EmployeeCount: integer (nullable = true)\n",
            " |-- EmployeeNumber: integer (nullable = true)\n",
            " |-- EnvironmentSatisfaction: integer (nullable = true)\n",
            " |-- Gender: string (nullable = true)\n",
            " |-- HourlyRate: integer (nullable = true)\n",
            " |-- JobInvolvement: integer (nullable = true)\n",
            " |-- JobLevel: integer (nullable = true)\n",
            " |-- JobRole: string (nullable = true)\n",
            " |-- JobSatisfaction: integer (nullable = true)\n",
            " |-- MaritalStatus: string (nullable = true)\n",
            " |-- MonthlyIncome: integer (nullable = true)\n",
            " |-- MonthlyRate: integer (nullable = true)\n",
            " |-- NumCompaniesWorked: integer (nullable = true)\n",
            " |-- Over18: string (nullable = true)\n",
            " |-- OverTime: string (nullable = true)\n",
            " |-- PercentSalaryHike: integer (nullable = true)\n",
            " |-- PerformanceRating: integer (nullable = true)\n",
            " |-- RelationshipSatisfaction: integer (nullable = true)\n",
            " |-- StandardHours: integer (nullable = true)\n",
            " |-- StockOptionLevel: integer (nullable = true)\n",
            " |-- TotalWorkingYears: integer (nullable = true)\n",
            " |-- TrainingTimesLastYear: integer (nullable = true)\n",
            " |-- WorkLifeBalance: integer (nullable = true)\n",
            " |-- YearsAtCompany: integer (nullable = true)\n",
            " |-- YearsInCurrentRole: integer (nullable = true)\n",
            " |-- YearsSinceLastPromotion: integer (nullable = true)\n",
            " |-- YearsWithCurrManager: integer (nullable = true)\n",
            "\n"
          ]
        }
      ]
    },
    {
      "cell_type": "code",
      "source": [
        "sdf.columns"
      ],
      "metadata": {
        "colab": {
          "base_uri": "https://localhost:8080/"
        },
        "id": "lUK7NHkIvk2M",
        "outputId": "a0ed8d14-4e8f-4563-b94e-af8e6fbb3036"
      },
      "execution_count": 14,
      "outputs": [
        {
          "output_type": "execute_result",
          "data": {
            "text/plain": [
              "['Age',\n",
              " 'Attrition',\n",
              " 'BusinessTravel',\n",
              " 'DailyRate',\n",
              " 'Department',\n",
              " 'DistanceFromHome',\n",
              " 'Education',\n",
              " 'EducationField',\n",
              " 'EmployeeCount',\n",
              " 'EmployeeNumber',\n",
              " 'EnvironmentSatisfaction',\n",
              " 'Gender',\n",
              " 'HourlyRate',\n",
              " 'JobInvolvement',\n",
              " 'JobLevel',\n",
              " 'JobRole',\n",
              " 'JobSatisfaction',\n",
              " 'MaritalStatus',\n",
              " 'MonthlyIncome',\n",
              " 'MonthlyRate',\n",
              " 'NumCompaniesWorked',\n",
              " 'Over18',\n",
              " 'OverTime',\n",
              " 'PercentSalaryHike',\n",
              " 'PerformanceRating',\n",
              " 'RelationshipSatisfaction',\n",
              " 'StandardHours',\n",
              " 'StockOptionLevel',\n",
              " 'TotalWorkingYears',\n",
              " 'TrainingTimesLastYear',\n",
              " 'WorkLifeBalance',\n",
              " 'YearsAtCompany',\n",
              " 'YearsInCurrentRole',\n",
              " 'YearsSinceLastPromotion',\n",
              " 'YearsWithCurrManager']"
            ]
          },
          "metadata": {},
          "execution_count": 14
        }
      ]
    },
    {
      "cell_type": "code",
      "source": [
        "sdf.describe().show()"
      ],
      "metadata": {
        "colab": {
          "base_uri": "https://localhost:8080/"
        },
        "id": "0yCZy0E6vyby",
        "outputId": "54f6eee2-5f14-4994-b654-be32a46c736e"
      },
      "execution_count": 17,
      "outputs": [
        {
          "output_type": "stream",
          "name": "stdout",
          "text": [
            "+-------+-----------------+---------+--------------+------------------+----------+------------------+------------------+----------------+-------------+-----------------+-----------------------+------+-----------------+-----------------+------------------+--------------------+------------------+-------------+------------------+------------------+------------------+------+--------+------------------+------------------+------------------------+-------------+------------------+------------------+---------------------+------------------+-----------------+------------------+-----------------------+--------------------+\n",
            "|summary|              Age|Attrition|BusinessTravel|         DailyRate|Department|  DistanceFromHome|         Education|  EducationField|EmployeeCount|   EmployeeNumber|EnvironmentSatisfaction|Gender|       HourlyRate|   JobInvolvement|          JobLevel|             JobRole|   JobSatisfaction|MaritalStatus|     MonthlyIncome|       MonthlyRate|NumCompaniesWorked|Over18|OverTime| PercentSalaryHike| PerformanceRating|RelationshipSatisfaction|StandardHours|  StockOptionLevel| TotalWorkingYears|TrainingTimesLastYear|   WorkLifeBalance|   YearsAtCompany|YearsInCurrentRole|YearsSinceLastPromotion|YearsWithCurrManager|\n",
            "+-------+-----------------+---------+--------------+------------------+----------+------------------+------------------+----------------+-------------+-----------------+-----------------------+------+-----------------+-----------------+------------------+--------------------+------------------+-------------+------------------+------------------+------------------+------+--------+------------------+------------------+------------------------+-------------+------------------+------------------+---------------------+------------------+-----------------+------------------+-----------------------+--------------------+\n",
            "|  count|            50000|    50000|         50000|             50000|     50000|             50000|             50000|           50000|        50000|            50000|                  50000| 50000|            50000|            50000|             50000|               50000|             50000|        50000|             50000|             50000|             50000| 50000|   50000|             50000|             50000|                   50000|        50000|             50000|             50000|                50000|             50000|            50000|             50000|                  50000|               50000|\n",
            "|   mean|         38.97148|     NULL|          NULL|         798.67756|      NULL|          25.53978|            3.0046|            NULL|          1.0|          25000.5|                2.49836|  NULL|        115.43294|          2.50262|           2.99464|                NULL|           2.48738|         NULL|       26015.78126|      404043.57942|             3.999|  NULL|    NULL|          24.61832|           2.49596|                 2.50222|         80.0|           2.50378|          20.49686|              3.49398|           2.49872|          10.7711|            5.9073|                5.87182|             5.88904|\n",
            "| stddev|12.42083379455027|     NULL|          NULL|405.08021678685725|      NULL|14.339955726507823|1.4142485078573823|            NULL|          0.0|14433.90106658626|      1.119670658563342|  NULL|49.42486660887611|1.120543728716091|1.4159983656160842|                NULL|1.1163089440263205|         NULL|14410.977499609877|340190.81112818094| 2.582373399229366|  NULL|    NULL|14.405000189455322|1.1180915351497904|      1.1179177368667783|          0.0|1.1189328629614141|11.575819199184258|   1.7081516663464946|1.1141199158365949|8.934229748513532| 6.034377762810301|      5.999055730779056|   6.009613147899259|\n",
            "|    min|               18|       No|    Non-Travel|               100|  Hardware|                 1|                 1| Human Resources|            1|                1|                      1|Female|               30|                1|                 1|           Developer|                 1|     Divorced|              1001|              1007|                 0|     Y|      No|                 0|                 1|                       1|           80|                 1|                 1|                    1|                 1|                1|                 1|                      1|                   1|\n",
            "|    max|               60|      Yes| Travel_Rarely|              1500|   Support|                50|                 5|Technical Degree|            1|            50000|                      4|  Male|              200|                4|                 5|Sales Representative|                 4|       Single|             50999|           1528290|                 8|     Y|     Yes|                49|                 4|                       4|           80|                 4|                40|                    6|                 4|               40|                40|                     40|                  40|\n",
            "+-------+-----------------+---------+--------------+------------------+----------+------------------+------------------+----------------+-------------+-----------------+-----------------------+------+-----------------+-----------------+------------------+--------------------+------------------+-------------+------------------+------------------+------------------+------+--------+------------------+------------------+------------------------+-------------+------------------+------------------+---------------------+------------------+-----------------+------------------+-----------------------+--------------------+\n",
            "\n"
          ]
        }
      ]
    },
    {
      "cell_type": "code",
      "source": [
        "sdf.select(['Age', 'EducationField']).show()"
      ],
      "metadata": {
        "colab": {
          "base_uri": "https://localhost:8080/"
        },
        "id": "L7M0OzBQv3mo",
        "outputId": "bd1e5c2a-28bc-4ccd-de9a-57e65c97d502"
      },
      "execution_count": 19,
      "outputs": [
        {
          "output_type": "stream",
          "name": "stdout",
          "text": [
            "+---+----------------+\n",
            "|Age|  EducationField|\n",
            "+---+----------------+\n",
            "| 31|         Medical|\n",
            "| 38|   Life Sciences|\n",
            "| 59|Technical Degree|\n",
            "| 52|       Marketing|\n",
            "| 32| Human Resources|\n",
            "| 19|         Medical|\n",
            "| 42| Human Resources|\n",
            "| 30|       Marketing|\n",
            "| 41|   Life Sciences|\n",
            "| 45|   Life Sciences|\n",
            "| 36|           Other|\n",
            "| 23|   Life Sciences|\n",
            "| 24|       Marketing|\n",
            "| 39| Human Resources|\n",
            "| 42|   Life Sciences|\n",
            "| 44| Human Resources|\n",
            "| 50| Human Resources|\n",
            "| 42|   Life Sciences|\n",
            "| 49|Technical Degree|\n",
            "| 58|Technical Degree|\n",
            "+---+----------------+\n",
            "only showing top 20 rows\n",
            "\n"
          ]
        }
      ]
    },
    {
      "cell_type": "code",
      "source": [
        "sdf['Age'] < 20"
      ],
      "metadata": {
        "colab": {
          "base_uri": "https://localhost:8080/"
        },
        "id": "aWShZdBLw4Sz",
        "outputId": "3365fd2e-1678-4438-9b44-4a0e5e7552b1"
      },
      "execution_count": 20,
      "outputs": [
        {
          "output_type": "execute_result",
          "data": {
            "text/plain": [
              "Column<'(Age < 20)'>"
            ]
          },
          "metadata": {},
          "execution_count": 20
        }
      ]
    },
    {
      "cell_type": "code",
      "source": [
        "sdf.filter(sdf['Age'] < 20).show()"
      ],
      "metadata": {
        "colab": {
          "base_uri": "https://localhost:8080/"
        },
        "id": "okOWC0qbySBP",
        "outputId": "c643142a-6729-4d88-a7f0-db6ecb3586b4"
      },
      "execution_count": 21,
      "outputs": [
        {
          "output_type": "stream",
          "name": "stdout",
          "text": [
            "+---+---------+-----------------+---------+--------------------+----------------+---------+----------------+-------------+--------------+-----------------------+------+----------+--------------+--------+--------------------+---------------+-------------+-------------+-----------+------------------+------+--------+-----------------+-----------------+------------------------+-------------+----------------+-----------------+---------------------+---------------+--------------+------------------+-----------------------+--------------------+\n",
            "|Age|Attrition|   BusinessTravel|DailyRate|          Department|DistanceFromHome|Education|  EducationField|EmployeeCount|EmployeeNumber|EnvironmentSatisfaction|Gender|HourlyRate|JobInvolvement|JobLevel|             JobRole|JobSatisfaction|MaritalStatus|MonthlyIncome|MonthlyRate|NumCompaniesWorked|Over18|OverTime|PercentSalaryHike|PerformanceRating|RelationshipSatisfaction|StandardHours|StockOptionLevel|TotalWorkingYears|TrainingTimesLastYear|WorkLifeBalance|YearsAtCompany|YearsInCurrentRole|YearsSinceLastPromotion|YearsWithCurrManager|\n",
            "+---+---------+-----------------+---------+--------------------+----------------+---------+----------------+-------------+--------------+-----------------------+------+----------+--------------+--------+--------------------+---------------+-------------+-------------+-----------+------------------+------+--------+-----------------+-----------------+------------------------+-------------+----------------+-----------------+---------------------+---------------+--------------+------------------+-----------------------+--------------------+\n",
            "| 19|      Yes|       Non-Travel|      779|            Hardware|              43|        1|         Medical|            1|             6|                      2|Female|       195|             4|       3|   Research Director|              3|      Married|        41552|    1246560|                 3|     Y|     Yes|               15|                4|                       3|           80|               1|               33|                    4|              2|            16|                 4|                     14|                   3|\n",
            "| 18|      Yes|    Travel_Rarely|      414|     Human Resources|              25|        4|Technical Degree|            1|            57|                      4|Female|       181|             4|       3|Sales Representative|              1|       Single|        37768|     604288|                 8|     Y|      No|               29|                1|                       1|           80|               2|                9|                    1|              1|             5|                 1|                      5|                   4|\n",
            "| 18|       No|       Non-Travel|      314|            Software|              39|        4|Technical Degree|            1|            76|                      3|Female|        70|             4|       4|Laboratory Techni...|              3|     Divorced|        39184|     470208|                 5|     Y|     Yes|               23|                3|                       2|           80|               1|               36|                    2|              4|            29|                 7|                     13|                  27|\n",
            "| 19|      Yes|Travel_Frequently|      464|            Hardware|              22|        4|Technical Degree|            1|            80|                      2|Female|       193|             4|       4|           Developer|              4|       Single|        14031|     364806|                 1|     Y|      No|               18|                2|                       4|           80|               4|               24|                    6|              2|             7|                 5|                      1|                   4|\n",
            "| 18|      Yes|Travel_Frequently|      727|             Support|              41|        3|           Other|            1|            92|                      1|  Male|       191|             1|       1|     Sales Executive|              2|     Divorced|         2125|      21250|                 6|     Y|     Yes|               30|                1|                       2|           80|               1|                9|                    1|              1|             9|                 3|                      8|                   1|\n",
            "| 19|       No|       Non-Travel|     1062|               Sales|              42|        5|Technical Degree|            1|           153|                      1|  Male|       138|             4|       4|   Research Director|              4|     Divorced|        42695|     384255|                 4|     Y|      No|               30|                2|                       1|           80|               4|                4|                    2|              3|             2|                 1|                      1|                   1|\n",
            "| 18|       No|Travel_Frequently|     1256|            Hardware|               2|        3|Technical Degree|            1|           157|                      2|Female|       147|             4|       1|           Developer|              3|       Single|        11535|     253770|                 0|     Y|      No|               35|                2|                       2|           80|               2|                8|                    3|              2|             2|                 1|                      2|                   1|\n",
            "| 19|      Yes|Travel_Frequently|     1347|               Sales|              29|        2|           Other|            1|           196|                      4|  Male|       162|             2|       4|     Human Resources|              4|       Single|         5476|      82140|                 5|     Y|     Yes|               11|                1|                       1|           80|               2|               40|                    3|              1|            17|                 1|                     11|                   3|\n",
            "| 19|       No|    Travel_Rarely|     1481|               Sales|              24|        4|         Medical|            1|           199|                      4|  Male|        50|             4|       2|     Human Resources|              3|     Divorced|        49998|     649974|                 4|     Y|     Yes|                0|                3|                       2|           80|               3|               34|                    6|              4|            10|                 9|                      8|                   8|\n",
            "| 19|       No|       Non-Travel|      797|Research & Develo...|              22|        2| Human Resources|            1|           202|                      3|  Male|       116|             3|       4|             Manager|              3|      Married|        20919|     230109|                 7|     Y|      No|                9|                2|                       1|           80|               2|               29|                    4|              2|             8|                 7|                      6|                   5|\n",
            "| 18|      Yes|Travel_Frequently|     1185|            Hardware|              25|        3|Technical Degree|            1|           207|                      1|Female|       163|             1|       5|Manufacturing Dir...|              2|     Divorced|         9065|      81585|                 0|     Y|     Yes|                6|                1|                       2|           80|               3|                7|                    6|              2|             6|                 1|                      6|                   6|\n",
            "| 18|       No|       Non-Travel|     1286|Research & Develo...|              22|        4|       Marketing|            1|           222|                      1|  Male|        83|             3|       2|  Research Scientist|              4|       Single|        12776|      12776|                 7|     Y|      No|                5|                3|                       1|           80|               3|                1|                    4|              3|             1|                 1|                      1|                   1|\n",
            "| 19|      Yes|    Travel_Rarely|      489|             Support|               9|        5|   Life Sciences|            1|           230|                      3|  Male|        75|             3|       3|Healthcare Repres...|              1|     Divorced|        40253|     805060|                 7|     Y|     Yes|               12|                4|                       3|           80|               2|               31|                    1|              3|            28|                 4|                     19|                  11|\n",
            "| 19|       No|       Non-Travel|     1012|     Human Resources|              24|        5|           Other|            1|           322|                      1|  Male|       174|             2|       2|Healthcare Repres...|              3|       Single|        26878|     618194|                 7|     Y|      No|               25|                1|                       2|           80|               3|                2|                    3|              4|             1|                 1|                      1|                   1|\n",
            "| 18|       No|       Non-Travel|      916|               Sales|               2|        4|Technical Degree|            1|           358|                      3|  Male|       167|             2|       2|   Research Director|              1|     Divorced|        42026|     294182|                 0|     Y|      No|               35|                2|                       3|           80|               2|               23|                    1|              2|            21|                16|                      1|                  16|\n",
            "| 19|      Yes|    Travel_Rarely|      368|            Software|              39|        4|         Medical|            1|           369|                      4|  Male|        72|             3|       5|           Developer|              1|      Married|        20473|     614190|                 6|     Y|     Yes|               24|                4|                       4|           80|               2|               37|                    5|              1|            32|                28|                     19|                  31|\n",
            "| 19|       No|    Travel_Rarely|      488|Research & Develo...|              47|        2|           Other|            1|           400|                      1|Female|        59|             1|       5|   Research Director|              1|     Divorced|         4243|      55159|                 4|     Y|      No|               31|                1|                       3|           80|               2|               38|                    5|              2|            19|                 2|                     10|                   3|\n",
            "| 18|       No|       Non-Travel|      785|     Human Resources|              20|        3|         Medical|            1|           428|                      4|  Male|        73|             2|       5|Healthcare Repres...|              3|     Divorced|        46086|     184344|                 0|     Y|     Yes|                5|                4|                       2|           80|               4|               29|                    6|              1|            22|                16|                     21|                   9|\n",
            "| 18|       No|    Travel_Rarely|     1135|     Human Resources|              32|        4|         Medical|            1|           540|                      1|  Male|       178|             3|       2|  Research Scientist|              4|      Married|        24621|     393936|                 4|     Y|      No|               12|                3|                       1|           80|               1|                4|                    4|              4|             4|                 4|                      1|                   1|\n",
            "| 19|       No|Travel_Frequently|     1386|             Support|              36|        1| Human Resources|            1|           550|                      4|  Male|        32|             2|       5|           Developer|              4|      Married|        46125|     691875|                 6|     Y|      No|               12|                4|                       4|           80|               1|               31|                    1|              2|             8|                 1|                      6|                   2|\n",
            "+---+---------+-----------------+---------+--------------------+----------------+---------+----------------+-------------+--------------+-----------------------+------+----------+--------------+--------+--------------------+---------------+-------------+-------------+-----------+------------------+------+--------+-----------------+-----------------+------------------------+-------------+----------------+-----------------+---------------------+---------------+--------------+------------------+-----------------------+--------------------+\n",
            "only showing top 20 rows\n",
            "\n"
          ]
        }
      ]
    },
    {
      "cell_type": "code",
      "source": [
        "sdf['MaritalStatus']== 'Married'"
      ],
      "metadata": {
        "colab": {
          "base_uri": "https://localhost:8080/"
        },
        "id": "pfx17zPIydt3",
        "outputId": "1db1cc2e-3f3b-4d4e-dd16-a3e8d8aa29e1"
      },
      "execution_count": 22,
      "outputs": [
        {
          "output_type": "execute_result",
          "data": {
            "text/plain": [
              "Column<'(MaritalStatus = Married)'>"
            ]
          },
          "metadata": {},
          "execution_count": 22
        }
      ]
    },
    {
      "cell_type": "code",
      "source": [
        "sdf.filter((sdf['Age'] < 20) & (sdf['MaritalStatus']== 'Married')).show()"
      ],
      "metadata": {
        "colab": {
          "base_uri": "https://localhost:8080/"
        },
        "id": "XbPZBqp7y_ET",
        "outputId": "b9c7e1ac-9b55-4981-b944-db3be736d8f9"
      },
      "execution_count": 26,
      "outputs": [
        {
          "output_type": "stream",
          "name": "stdout",
          "text": [
            "+---+---------+-----------------+---------+--------------------+----------------+---------+----------------+-------------+--------------+-----------------------+------+----------+--------------+--------+--------------------+---------------+-------------+-------------+-----------+------------------+------+--------+-----------------+-----------------+------------------------+-------------+----------------+-----------------+---------------------+---------------+--------------+------------------+-----------------------+--------------------+\n",
            "|Age|Attrition|   BusinessTravel|DailyRate|          Department|DistanceFromHome|Education|  EducationField|EmployeeCount|EmployeeNumber|EnvironmentSatisfaction|Gender|HourlyRate|JobInvolvement|JobLevel|             JobRole|JobSatisfaction|MaritalStatus|MonthlyIncome|MonthlyRate|NumCompaniesWorked|Over18|OverTime|PercentSalaryHike|PerformanceRating|RelationshipSatisfaction|StandardHours|StockOptionLevel|TotalWorkingYears|TrainingTimesLastYear|WorkLifeBalance|YearsAtCompany|YearsInCurrentRole|YearsSinceLastPromotion|YearsWithCurrManager|\n",
            "+---+---------+-----------------+---------+--------------------+----------------+---------+----------------+-------------+--------------+-----------------------+------+----------+--------------+--------+--------------------+---------------+-------------+-------------+-----------+------------------+------+--------+-----------------+-----------------+------------------------+-------------+----------------+-----------------+---------------------+---------------+--------------+------------------+-----------------------+--------------------+\n",
            "| 19|      Yes|       Non-Travel|      779|            Hardware|              43|        1|         Medical|            1|             6|                      2|Female|       195|             4|       3|   Research Director|              3|      Married|        41552|    1246560|                 3|     Y|     Yes|               15|                4|                       3|           80|               1|               33|                    4|              2|            16|                 4|                     14|                   3|\n",
            "| 19|       No|       Non-Travel|      797|Research & Develo...|              22|        2| Human Resources|            1|           202|                      3|  Male|       116|             3|       4|             Manager|              3|      Married|        20919|     230109|                 7|     Y|      No|                9|                2|                       1|           80|               2|               29|                    4|              2|             8|                 7|                      6|                   5|\n",
            "| 19|      Yes|    Travel_Rarely|      368|            Software|              39|        4|         Medical|            1|           369|                      4|  Male|        72|             3|       5|           Developer|              1|      Married|        20473|     614190|                 6|     Y|     Yes|               24|                4|                       4|           80|               2|               37|                    5|              1|            32|                28|                     19|                  31|\n",
            "| 18|       No|    Travel_Rarely|     1135|     Human Resources|              32|        4|         Medical|            1|           540|                      1|  Male|       178|             3|       2|  Research Scientist|              4|      Married|        24621|     393936|                 4|     Y|      No|               12|                3|                       1|           80|               1|                4|                    4|              4|             4|                 4|                      1|                   1|\n",
            "| 19|       No|Travel_Frequently|     1386|             Support|              36|        1| Human Resources|            1|           550|                      4|  Male|        32|             2|       5|           Developer|              4|      Married|        46125|     691875|                 6|     Y|      No|               12|                4|                       4|           80|               1|               31|                    1|              2|             8|                 1|                      6|                   2|\n",
            "| 19|       No|Travel_Frequently|      996|             Support|              46|        5|Technical Degree|            1|           569|                      1|Female|       117|             1|       4|Manufacturing Dir...|              2|      Married|        34587|      69174|                 2|     Y|      No|               15|                4|                       3|           80|               3|               20|                    4|              3|            16|                10|                      8|                   7|\n",
            "| 19|       No|    Travel_Rarely|     1140|Research & Develo...|               5|        4|       Marketing|            1|           573|                      2|Female|       150|             4|       5|     Human Resources|              4|      Married|        10246|      81968|                 2|     Y|     Yes|               28|                1|                       2|           80|               2|               27|                    5|              4|             1|                 1|                      1|                   1|\n",
            "| 19|       No|Travel_Frequently|      943|            Software|              28|        4|   Life Sciences|            1|           584|                      2|Female|       106|             4|       3|             Manager|              2|      Married|        14744|     368600|                 6|     Y|     Yes|               31|                2|                       3|           80|               2|               35|                    4|              3|            29|                27|                     24|                  29|\n",
            "| 19|      Yes|       Non-Travel|      942|     Human Resources|              44|        3|Technical Degree|            1|           991|                      1|Female|        67|             1|       4|  Research Scientist|              3|      Married|         9892|     207732|                 5|     Y|     Yes|               29|                1|                       1|           80|               1|               13|                    4|              4|             3|                 3|                      1|                   3|\n",
            "| 19|      Yes|       Non-Travel|      926|Research & Develo...|              24|        5|Technical Degree|            1|          1048|                      4|Female|        72|             1|       4|     Sales Executive|              3|      Married|        34885|     348850|                 0|     Y|      No|               15|                3|                       1|           80|               2|               11|                    2|              2|            11|                 9|                      2|                   6|\n",
            "| 18|      Yes|       Non-Travel|      929|            Hardware|              16|        1|           Other|            1|          1194|                      4|Female|        55|             1|       4|             Manager|              1|      Married|         2869|      57380|                 1|     Y|      No|               20|                4|                       2|           80|               4|               14|                    1|              4|            12|                11|                     12|                   3|\n",
            "| 18|       No|       Non-Travel|     1337|               Sales|               1|        5|Technical Degree|            1|          1245|                      1|Female|       165|             2|       1|Healthcare Repres...|              4|      Married|        18620|     484120|                 1|     Y|     Yes|               26|                4|                       4|           80|               1|                6|                    1|              2|             3|                 1|                      2|                   2|\n",
            "| 18|       No|    Travel_Rarely|     1016|     Human Resources|               7|        4| Human Resources|            1|          1270|                      4|  Male|       188|             1|       3|Manufacturing Dir...|              2|      Married|         7459|     179016|                 7|     Y|      No|               41|                3|                       1|           80|               4|               33|                    3|              1|            17|                 7|                     10|                  12|\n",
            "| 19|      Yes|       Non-Travel|      381|     Human Resources|               9|        3|           Other|            1|          1306|                      4|  Male|        53|             1|       1|  Research Scientist|              1|      Married|        24321|      48642|                 8|     Y|      No|               25|                1|                       2|           80|               4|                5|                    3|              2|             1|                 1|                      1|                   1|\n",
            "| 18|      Yes|Travel_Frequently|      834|            Software|              20|        3| Human Resources|            1|          1605|                      1|  Male|        93|             2|       3|Healthcare Repres...|              2|      Married|        21317|     490291|                 6|     Y|     Yes|               18|                4|                       4|           80|               1|               16|                    3|              2|             8|                 3|                      3|                   7|\n",
            "| 18|      Yes|Travel_Frequently|      286|Research & Develo...|              17|        3|Technical Degree|            1|          1666|                      4|Female|       123|             1|       5|           Developer|              4|      Married|        25420|     711760|                 0|     Y|     Yes|                6|                2|                       4|           80|               1|                7|                    6|              2|             7|                 4|                      5|                   2|\n",
            "| 18|       No|       Non-Travel|      764|            Software|              11|        5|Technical Degree|            1|          1725|                      1|  Male|       137|             1|       2|Manufacturing Dir...|              4|      Married|        34929|     174645|                 2|     Y|      No|               26|                2|                       2|           80|               4|               24|                    1|              2|            10|                 5|                      7|                   6|\n",
            "| 18|       No|    Travel_Rarely|      789|            Software|              44|        4|           Other|            1|          1802|                      2|  Male|        73|             2|       1|Sales Representative|              1|      Married|         3005|      21035|                 6|     Y|     Yes|               41|                1|                       1|           80|               1|               35|                    2|              4|            30|                 2|                      2|                   6|\n",
            "| 18|      Yes|       Non-Travel|      987|            Hardware|              47|        5|         Medical|            1|          1819|                      4|  Male|       122|             3|       1|   Research Director|              4|      Married|         7369|     184225|                 4|     Y|     Yes|               15|                4|                       1|           80|               1|               12|                    6|              3|             5|                 4|                      4|                   3|\n",
            "| 18|      Yes|    Travel_Rarely|      845|               Sales|              30|        3| Human Resources|            1|          1969|                      3|Female|        71|             1|       2|Healthcare Repres...|              2|      Married|        50686|    1368522|                 8|     Y|      No|               45|                1|                       4|           80|               1|               38|                    2|              4|            29|                19|                     22|                   1|\n",
            "+---+---------+-----------------+---------+--------------------+----------------+---------+----------------+-------------+--------------+-----------------------+------+----------+--------------+--------+--------------------+---------------+-------------+-------------+-----------+------------------+------+--------+-----------------+-----------------+------------------------+-------------+----------------+-----------------+---------------------+---------------+--------------+------------------+-----------------------+--------------------+\n",
            "only showing top 20 rows\n",
            "\n"
          ]
        }
      ]
    },
    {
      "cell_type": "code",
      "source": [
        "sdf.groupby('MaritalStatus').mean().show()"
      ],
      "metadata": {
        "colab": {
          "base_uri": "https://localhost:8080/"
        },
        "id": "YhC5VbdrzJE3",
        "outputId": "077d4522-e0c8-4a1d-9f45-3a2114a616ce"
      },
      "execution_count": 27,
      "outputs": [
        {
          "output_type": "stream",
          "name": "stdout",
          "text": [
            "+-------------+-----------------+-----------------+---------------------+------------------+------------------+-------------------+----------------------------+------------------+-------------------+------------------+--------------------+------------------+------------------+-----------------------+----------------------+----------------------+-----------------------------+------------------+---------------------+----------------------+--------------------------+--------------------+-------------------+-----------------------+----------------------------+-------------------------+\n",
            "|MaritalStatus|         avg(Age)|   avg(DailyRate)|avg(DistanceFromHome)|    avg(Education)|avg(EmployeeCount)|avg(EmployeeNumber)|avg(EnvironmentSatisfaction)|   avg(HourlyRate)|avg(JobInvolvement)|     avg(JobLevel)|avg(JobSatisfaction)|avg(MonthlyIncome)|  avg(MonthlyRate)|avg(NumCompaniesWorked)|avg(PercentSalaryHike)|avg(PerformanceRating)|avg(RelationshipSatisfaction)|avg(StandardHours)|avg(StockOptionLevel)|avg(TotalWorkingYears)|avg(TrainingTimesLastYear)|avg(WorkLifeBalance)|avg(YearsAtCompany)|avg(YearsInCurrentRole)|avg(YearsSinceLastPromotion)|avg(YearsWithCurrManager)|\n",
            "+-------------+-----------------+-----------------+---------------------+------------------+------------------+-------------------+----------------------------+------------------+-------------------+------------------+--------------------+------------------+------------------+-----------------------+----------------------+----------------------+-----------------------------+------------------+---------------------+----------------------+--------------------------+--------------------+-------------------+-----------------------+----------------------------+-------------------------+\n",
            "|      Married|39.02415922306816|796.1058090042563|    25.46513997961753|3.0052155146573947|               1.0|   24930.3192254661|           2.502787602661711| 115.1754091481326|  2.496193273784545| 3.003596906660272|  2.4882800791319464| 25928.41448354415|404121.91067681793|      4.008093039985613|    24.610994544691565|    2.4964330675618966|           2.5012289431089263|              80.0|   2.5017085306636293|    20.639350158863376|        3.4849229662490258|   2.499070799112763|  10.79203884659193|      5.928841196570949|           5.861159402913494|        5.870751154007554|\n",
            "|     Divorced|38.87831006259027|796.3674771304767|   25.579862782859895|2.9978935965334617|               1.0|  24969.22995907559|          2.4944029850746268| 115.9580524795378| 2.5071015888300434|2.9901901781415505|   2.495907558979297|26145.275517573424| 404901.2093163216|     3.9916345690900337|     24.61236157920077|     2.495365912373616|           2.4977130476649014|              80.0|    2.507763601348098|    20.546401059220027|         3.497412132883967|  2.4947640828117477| 10.849181511795859|      5.941502166586423|          5.9148411169956665|        5.971413095811267|\n",
            "|       Single|39.01155481051308|803.5439741363826|    25.57444770400527| 3.010656768245225|               1.0|  25101.69550380171|          2.4978746332994075|115.16775429563552|  2.504580015566066| 2.990121535053583|   2.477997964437526|25974.213195234388| 403112.1885290068|      3.997246003711908|    24.631563192240915|     2.496078548763695|           2.5076932287613003|              80.0|    2.501885888762498|    20.305274501586542|        3.4996108483505957|  2.5023049751541637| 10.672513919655152|      5.851763156319224|           5.839669520445429|        5.825360713644256|\n",
            "+-------------+-----------------+-----------------+---------------------+------------------+------------------+-------------------+----------------------------+------------------+-------------------+------------------+--------------------+------------------+------------------+-----------------------+----------------------+----------------------+-----------------------------+------------------+---------------------+----------------------+--------------------------+--------------------+-------------------+-----------------------+----------------------------+-------------------------+\n",
            "\n"
          ]
        }
      ]
    },
    {
      "cell_type": "code",
      "source": [
        "sdf.orderBy('Age').show()"
      ],
      "metadata": {
        "colab": {
          "base_uri": "https://localhost:8080/"
        },
        "id": "d4szTJzv0JSy",
        "outputId": "92c9388a-ab1a-4776-f98d-bd5cc8d2d433"
      },
      "execution_count": 29,
      "outputs": [
        {
          "output_type": "stream",
          "name": "stdout",
          "text": [
            "+---+---------+-----------------+---------+--------------------+----------------+---------+----------------+-------------+--------------+-----------------------+------+----------+--------------+--------+--------------------+---------------+-------------+-------------+-----------+------------------+------+--------+-----------------+-----------------+------------------------+-------------+----------------+-----------------+---------------------+---------------+--------------+------------------+-----------------------+--------------------+\n",
            "|Age|Attrition|   BusinessTravel|DailyRate|          Department|DistanceFromHome|Education|  EducationField|EmployeeCount|EmployeeNumber|EnvironmentSatisfaction|Gender|HourlyRate|JobInvolvement|JobLevel|             JobRole|JobSatisfaction|MaritalStatus|MonthlyIncome|MonthlyRate|NumCompaniesWorked|Over18|OverTime|PercentSalaryHike|PerformanceRating|RelationshipSatisfaction|StandardHours|StockOptionLevel|TotalWorkingYears|TrainingTimesLastYear|WorkLifeBalance|YearsAtCompany|YearsInCurrentRole|YearsSinceLastPromotion|YearsWithCurrManager|\n",
            "+---+---------+-----------------+---------+--------------------+----------------+---------+----------------+-------------+--------------+-----------------------+------+----------+--------------+--------+--------------------+---------------+-------------+-------------+-----------+------------------+------+--------+-----------------+-----------------+------------------------+-------------+----------------+-----------------+---------------------+---------------+--------------+------------------+-----------------------+--------------------+\n",
            "| 18|       No|       Non-Travel|      794|     Human Resources|              18|        1|           Other|            1|         39128|                      4|Female|        75|             4|       4|  Research Scientist|              4|      Married|         8932|     116116|                 0|     Y|      No|               39|                4|                       3|           80|               1|               12|                    6|              3|             2|                 2|                      1|                   2|\n",
            "| 18|       No|    Travel_Rarely|     1050|     Human Resources|              46|        3|       Marketing|            1|           856|                      3|  Male|       145|             1|       2|  Research Scientist|              3|     Divorced|        23615|     118075|                 1|     Y|     Yes|               14|                4|                       2|           80|               4|               18|                    5|              4|             8|                 7|                      2|                   4|\n",
            "| 18|      Yes|       Non-Travel|      185|             Support|              37|        1| Human Resources|            1|         39582|                      1|Female|       113|             3|       4|   Research Director|              4|     Divorced|        25219|     327847|                 3|     Y|      No|               17|                2|                       3|           80|               1|               14|                    3|              4|             1|                 1|                      1|                   1|\n",
            "| 18|      Yes|    Travel_Rarely|      845|               Sales|              30|        3| Human Resources|            1|          1969|                      3|Female|        71|             1|       2|Healthcare Repres...|              2|      Married|        50686|    1368522|                 8|     Y|      No|               45|                1|                       4|           80|               1|               38|                    2|              4|            29|                19|                     22|                   1|\n",
            "| 18|      Yes|Travel_Frequently|      219|             Support|              32|        1|Technical Degree|            1|         39129|                      1|Female|        85|             3|       3|     Sales Executive|              4|       Single|        15253|     167783|                 0|     Y|      No|                1|                1|                       3|           80|               1|               13|                    6|              1|             9|                 2|                      8|                   9|\n",
            "| 18|      Yes|Travel_Frequently|     1463|     Human Resources|              28|        2|   Life Sciences|            1|          1020|                      3|  Male|       135|             2|       4|  Research Scientist|              4|       Single|        41624|    1082224|                 3|     Y|      No|                4|                3|                       2|           80|               4|                2|                    6|              2|             2|                 2|                      2|                   2|\n",
            "| 18|       No|    Travel_Rarely|      996|     Human Resources|              13|        3|   Life Sciences|            1|         38765|                      2|  Male|        67|             4|       2|Manufacturing Dir...|              1|     Divorced|        11794|     330232|                 7|     Y|     Yes|               30|                2|                       3|           80|               2|               39|                    6|              2|             1|                 1|                      1|                   1|\n",
            "| 18|       No|       Non-Travel|      314|            Software|              39|        4|Technical Degree|            1|            76|                      3|Female|        70|             4|       4|Laboratory Techni...|              3|     Divorced|        39184|     470208|                 5|     Y|     Yes|               23|                3|                       2|           80|               1|               36|                    2|              4|            29|                 7|                     13|                  27|\n",
            "| 18|      Yes|Travel_Frequently|      469|               Sales|              27|        2| Human Resources|            1|         39131|                      2|Female|       189|             1|       4|Healthcare Repres...|              3|     Divorced|        24219|     339066|                 5|     Y|      No|               49|                4|                       4|           80|               1|               24|                    6|              3|            18|                10|                     17|                  15|\n",
            "| 18|      Yes|    Travel_Rarely|      954|            Hardware|               7|        3|Technical Degree|            1|          1056|                      3|  Male|        60|             3|       5|Manufacturing Dir...|              3|       Single|        48809|     341663|                 5|     Y|      No|               38|                2|                       1|           80|               3|               23|                    5|              4|            12|                 8|                      4|                  10|\n",
            "| 18|      Yes|       Non-Travel|      839|            Hardware|               9|        2|           Other|            1|         38696|                      2|Female|        38|             1|       2|Sales Representative|              3|      Married|        19039|     247507|                 3|     Y|     Yes|               28|                2|                       2|           80|               4|               25|                    3|              2|            10|                 9|                     10|                   8|\n",
            "| 18|       No|Travel_Frequently|     1256|            Hardware|               2|        3|Technical Degree|            1|           157|                      2|Female|       147|             4|       1|           Developer|              3|       Single|        11535|     253770|                 0|     Y|      No|               35|                2|                       2|           80|               2|                8|                    3|              2|             2|                 1|                      2|                   1|\n",
            "| 18|      Yes|       Non-Travel|      864|            Software|              33|        5|         Medical|            1|         39144|                      4|Female|       127|             4|       3|Manufacturing Dir...|              3|      Married|        50888|     966872|                 4|     Y|     Yes|               30|                1|                       2|           80|               1|               15|                    6|              3|             1|                 1|                      1|                   1|\n",
            "| 18|       No|    Travel_Rarely|      294|            Hardware|              17|        5|           Other|            1|          1078|                      3|Female|       185|             4|       1|   Research Director|              1|       Single|        49612|    1488360|                 0|     Y|      No|               11|                3|                       3|           80|               3|               34|                    6|              4|             2|                 1|                      1|                   2|\n",
            "| 18|      Yes|Travel_Frequently|      844|            Hardware|              10|        1|Technical Degree|            1|         38802|                      4|Female|       122|             3|       2|             Manager|              3|     Divorced|         3946|      86812|                 0|     Y|     Yes|               46|                2|                       1|           80|               3|               19|                    6|              4|             8|                 5|                      1|                   3|\n",
            "| 18|       No|       Non-Travel|     1286|Research & Develo...|              22|        4|       Marketing|            1|           222|                      1|  Male|        83|             3|       2|  Research Scientist|              4|       Single|        12776|      12776|                 7|     Y|      No|                5|                3|                       1|           80|               3|                1|                    4|              3|             1|                 1|                      1|                   1|\n",
            "| 18|      Yes|       Non-Travel|      269|            Software|              20|        3| Human Resources|            1|         39179|                      2|  Male|        97|             3|       1|  Research Scientist|              2|       Single|        14062|     421860|                 1|     Y|     Yes|                1|                2|                       4|           80|               3|               34|                    2|              2|             9|                 3|                      5|                   9|\n",
            "| 18|      Yes|    Travel_Rarely|      384|             Support|              22|        3| Human Resources|            1|          1083|                      4|Female|       112|             4|       2|Laboratory Techni...|              2|       Single|         2785|      77980|                 5|     Y|     Yes|               40|                4|                       1|           80|               2|               14|                    4|              3|             6|                 3|                      5|                   3|\n",
            "| 18|       No|       Non-Travel|     1478|            Software|              35|        2|         Medical|            1|         38986|                      2|Female|        32|             4|       3|     Human Resources|              2|      Married|        48932|    1467960|                 8|     Y|     Yes|               48|                1|                       3|           80|               3|               13|                    2|              2|             4|                 1|                      3|                   3|\n",
            "| 18|       No|       Non-Travel|      916|               Sales|               2|        4|Technical Degree|            1|           358|                      3|  Male|       167|             2|       2|   Research Director|              1|     Divorced|        42026|     294182|                 0|     Y|      No|               35|                2|                       3|           80|               2|               23|                    1|              2|            21|                16|                      1|                  16|\n",
            "+---+---------+-----------------+---------+--------------------+----------------+---------+----------------+-------------+--------------+-----------------------+------+----------+--------------+--------+--------------------+---------------+-------------+-------------+-----------+------------------+------+--------+-----------------+-----------------+------------------------+-------------+----------------+-----------------+---------------------+---------------+--------------+------------------+-----------------------+--------------------+\n",
            "only showing top 20 rows\n",
            "\n"
          ]
        }
      ]
    },
    {
      "cell_type": "code",
      "source": [
        "sdf.orderBy(sdf['Age'].desc()).show()"
      ],
      "metadata": {
        "colab": {
          "base_uri": "https://localhost:8080/"
        },
        "id": "j7Duaet80yTm",
        "outputId": "630aad89-49c0-442b-c21b-d598d2efe149"
      },
      "execution_count": 32,
      "outputs": [
        {
          "output_type": "stream",
          "name": "stdout",
          "text": [
            "+---+---------+-----------------+---------+--------------------+----------------+---------+----------------+-------------+--------------+-----------------------+------+----------+--------------+--------+--------------------+---------------+-------------+-------------+-----------+------------------+------+--------+-----------------+-----------------+------------------------+-------------+----------------+-----------------+---------------------+---------------+--------------+------------------+-----------------------+--------------------+\n",
            "|Age|Attrition|   BusinessTravel|DailyRate|          Department|DistanceFromHome|Education|  EducationField|EmployeeCount|EmployeeNumber|EnvironmentSatisfaction|Gender|HourlyRate|JobInvolvement|JobLevel|             JobRole|JobSatisfaction|MaritalStatus|MonthlyIncome|MonthlyRate|NumCompaniesWorked|Over18|OverTime|PercentSalaryHike|PerformanceRating|RelationshipSatisfaction|StandardHours|StockOptionLevel|TotalWorkingYears|TrainingTimesLastYear|WorkLifeBalance|YearsAtCompany|YearsInCurrentRole|YearsSinceLastPromotion|YearsWithCurrManager|\n",
            "+---+---------+-----------------+---------+--------------------+----------------+---------+----------------+-------------+--------------+-----------------------+------+----------+--------------+--------+--------------------+---------------+-------------+-------------+-----------+------------------+------+--------+-----------------+-----------------+------------------------+-------------+----------------+-----------------+---------------------+---------------+--------------+------------------+-----------------------+--------------------+\n",
            "| 60|       No|       Non-Travel|      787|             Support|              15|        5|         Medical|            1|         39015|                      2|  Male|        95|             2|       1|Laboratory Techni...|              3|     Divorced|         3090|      15450|                 4|     Y|     Yes|               33|                1|                       1|           80|               3|               26|                    2|              1|             7|                 2|                      2|                   7|\n",
            "| 60|       No|       Non-Travel|      430|            Hardware|               5|        3|   Life Sciences|            1|           715|                      4|  Male|       175|             2|       5|  Research Scientist|              4|     Divorced|        20481|     389139|                 2|     Y|     Yes|               15|                4|                       1|           80|               2|               16|                    4|              3|             6|                 5|                      2|                   2|\n",
            "| 60|       No|       Non-Travel|      308|               Sales|              26|        2|Technical Degree|            1|         39018|                      2|  Male|        56|             2|       3|             Manager|              4|     Divorced|        23021|     690630|                 4|     Y|     Yes|               13|                3|                       1|           80|               1|               27|                    3|              4|            27|                21|                     10|                  25|\n",
            "| 60|       No|Travel_Frequently|      486|            Software|              38|        3|           Other|            1|          1649|                      3|  Male|        91|             1|       3|   Research Director|              4|     Divorced|        41890|      83780|                 3|     Y|      No|               18|                2|                       1|           80|               3|               23|                    4|              3|             2|                 1|                      1|                   2|\n",
            "| 60|      Yes|    Travel_Rarely|      287|            Hardware|              46|        4|           Other|            1|         39047|                      3|Female|       144|             4|       1|     Sales Executive|              4|       Single|        43830|     701280|                 8|     Y|     Yes|               14|                3|                       1|           80|               3|               20|                    6|              2|             7|                 7|                      4|                   3|\n",
            "| 60|      Yes|Travel_Frequently|     1118|             Support|              12|        4| Human Resources|            1|           838|                      1|  Male|        94|             2|       5|Sales Representative|              1|       Single|        12547|      62735|                 6|     Y|     Yes|                9|                1|                       2|           80|               4|                1|                    2|              2|             1|                 1|                      1|                   1|\n",
            "| 60|       No|Travel_Frequently|     1078|             Support|              12|        3| Human Resources|            1|         38666|                      1|Female|        97|             3|       5|     Sales Executive|              3|     Divorced|        16079|      96474|                 5|     Y|     Yes|                0|                1|                       1|           80|               2|               17|                    3|              1|             1|                 1|                      1|                   1|\n",
            "| 60|       No|       Non-Travel|     1177|Research & Develo...|              16|        3| Human Resources|            1|           250|                      1|  Male|       169|             2|       2|Manufacturing Dir...|              1|      Married|        24142|     217278|                 4|     Y|      No|               34|                3|                       1|           80|               4|               33|                    6|              2|            26|                13|                     21|                  22|\n",
            "| 60|       No|    Travel_Rarely|      158|             Support|              13|        4|           Other|            1|         39060|                      3|  Male|        65|             1|       2|Manufacturing Dir...|              1|     Divorced|        12855|     257100|                 2|     Y|      No|                2|                2|                       4|           80|               1|               17|                    4|              4|             1|                 1|                      1|                   1|\n",
            "| 60|      Yes|       Non-Travel|      133|               Sales|              42|        1|         Medical|            1|           877|                      1|  Male|       108|             1|       1|Healthcare Repres...|              4|     Divorced|        49907|     349349|                 2|     Y|     Yes|               29|                4|                       1|           80|               3|               28|                    2|              3|            23|                11|                     20|                  13|\n",
            "| 60|       No|       Non-Travel|     1183|               Sales|              19|        1|           Other|            1|         38740|                      1|  Male|       101|             2|       2|Laboratory Techni...|              4|      Married|        31161|      31161|                 7|     Y|     Yes|               17|                2|                       3|           80|               3|               10|                    4|              4|             4|                 4|                      4|                   4|\n",
            "| 60|       No|    Travel_Rarely|      533|     Human Resources|              10|        4| Human Resources|            1|           114|                      4|  Male|       163|             4|       4|     Sales Executive|              4|       Single|         7258|     217740|                 7|     Y|     Yes|               22|                4|                       1|           80|               3|               22|                    6|              4|            21|                14|                     21|                  10|\n",
            "| 60|       No|       Non-Travel|     1424|            Hardware|              15|        2|           Other|            1|         39074|                      4|  Male|       169|             3|       4|Manufacturing Dir...|              1|       Single|        44415|     532980|                 7|     Y|      No|               15|                1|                       1|           80|               1|                9|                    1|              1|             3|                 2|                      1|                   3|\n",
            "| 60|       No|    Travel_Rarely|     1473|Research & Develo...|              36|        1|   Life Sciences|            1|           910|                      1|  Male|        51|             3|       3|             Manager|              1|     Divorced|        41882|     167528|                 0|     Y|      No|               22|                4|                       3|           80|               1|                9|                    5|              3|             3|                 1|                      3|                   3|\n",
            "| 60|      Yes|Travel_Frequently|     1033|            Software|              15|        4|         Medical|            1|         38828|                      2|  Male|       166|             1|       3|             Manager|              1|       Single|        31909|     127636|                 4|     Y|     Yes|               13|                4|                       4|           80|               2|               28|                    2|              4|             7|                 4|                      7|                   3|\n",
            "| 60|      Yes|    Travel_Rarely|     1277|Research & Develo...|              16|        5|   Life Sciences|            1|            42|                      4|  Male|       136|             3|       3|Sales Representative|              4|       Single|        21259|     531475|                 7|     Y|      No|               18|                4|                       3|           80|               4|               34|                    2|              2|             7|                 4|                      7|                   4|\n",
            "| 60|      Yes|       Non-Travel|     1053|Research & Develo...|              26|        5|   Life Sciences|            1|         39100|                      4|Female|       156|             4|       1|   Research Director|              2|     Divorced|        42841|    1028184|                 5|     Y|      No|               16|                4|                       1|           80|               4|               31|                    6|              2|            13|                 5|                      1|                   1|\n",
            "| 60|       No|       Non-Travel|      383|     Human Resources|              30|        3| Human Resources|            1|           934|                      1|Female|        86|             2|       1|Laboratory Techni...|              1|     Divorced|        32010|     384120|                 8|     Y|     Yes|                8|                2|                       1|           80|               4|                4|                    3|              3|             1|                 1|                      1|                   1|\n",
            "| 60|       No|Travel_Frequently|      190|Research & Develo...|              26|        4|Technical Degree|            1|         38859|                      1|Female|       187|             1|       4|Laboratory Techni...|              2|      Married|        15939|     302841|                 0|     Y|      No|               32|                2|                       1|           80|               3|               32|                    5|              4|            30|                16|                      5|                   9|\n",
            "| 60|       No|    Travel_Rarely|     1348|               Sales|              32|        3|Technical Degree|            1|            98|                      1|  Male|       132|             3|       4|   Research Director|              1|     Divorced|        14216|     241672|                 2|     Y|     Yes|               42|                3|                       4|           80|               4|               39|                    5|              1|            22|                22|                     11|                  15|\n",
            "+---+---------+-----------------+---------+--------------------+----------------+---------+----------------+-------------+--------------+-----------------------+------+----------+--------------+--------+--------------------+---------------+-------------+-------------+-----------+------------------+------+--------+-----------------+-----------------+------------------------+-------------+----------------+-----------------+---------------------+---------------+--------------+------------------+-----------------------+--------------------+\n",
            "only showing top 20 rows\n",
            "\n"
          ]
        }
      ]
    },
    {
      "cell_type": "code",
      "source": [],
      "metadata": {
        "id": "4S7fJ_cV1QF_"
      },
      "execution_count": null,
      "outputs": []
    }
  ]
}